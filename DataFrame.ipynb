{
  "nbformat": 4,
  "nbformat_minor": 0,
  "metadata": {
    "colab": {
      "name": "DataFrame",
      "provenance": [],
      "authorship_tag": "ABX9TyMX+dvq4U2SUtKS8GNe+tQV",
      "include_colab_link": true
    },
    "kernelspec": {
      "name": "python3",
      "display_name": "Python 3"
    },
    "language_info": {
      "name": "python"
    }
  },
  "cells": [
    {
      "cell_type": "markdown",
      "metadata": {
        "id": "view-in-github",
        "colab_type": "text"
      },
      "source": [
        "<a href=\"https://colab.research.google.com/github/pushkar205/Data-Analysis-using-Python/blob/main/DataFrame.ipynb\" target=\"_parent\"><img src=\"https://colab.research.google.com/assets/colab-badge.svg\" alt=\"Open In Colab\"/></a>"
      ]
    },
    {
      "cell_type": "code",
      "metadata": {
        "colab": {
          "base_uri": "https://localhost:8080/"
        },
        "id": "g4Tdrpykto5Z",
        "outputId": "4ce0a693-1218-4280-b573-ebce9a55ac72"
      },
      "source": [
        "import pandas as pd\n",
        "data = [1,2,3,4,5]\n",
        "df = pd.DataFrame(data)\n",
        "print (df)"
      ],
      "execution_count": 1,
      "outputs": [
        {
          "output_type": "stream",
          "name": "stdout",
          "text": [
            "   0\n",
            "0  1\n",
            "1  2\n",
            "2  3\n",
            "3  4\n",
            "4  5\n"
          ]
        }
      ]
    },
    {
      "cell_type": "code",
      "metadata": {
        "colab": {
          "base_uri": "https://localhost:8080/"
        },
        "id": "5iMB64dmtzJU",
        "outputId": "be8ae9d2-1483-43bf-ad37-f2b6de45d9cd"
      },
      "source": [
        "import pandas as pd\n",
        "data = [['Aman',10],['James',12],['Chandan',13]]\n",
        "df = pd.DataFrame(data,columns=['Name','Age'])\n",
        "print (df)"
      ],
      "execution_count": 2,
      "outputs": [
        {
          "output_type": "stream",
          "name": "stdout",
          "text": [
            "      Name  Age\n",
            "0     Aman   10\n",
            "1    James   12\n",
            "2  Chandan   13\n"
          ]
        }
      ]
    },
    {
      "cell_type": "code",
      "metadata": {
        "colab": {
          "base_uri": "https://localhost:8080/"
        },
        "id": "9h1evoSxt0ii",
        "outputId": "16cb2db0-4a9a-4034-e1d6-d0fab1c38bd4"
      },
      "source": [
        "import pandas as pd\n",
        "data = [['Aman',10],['James',12],['Chandan',13]]\n",
        "df = pd.DataFrame(data,columns=['Name','Age'])\n",
        "print (df)"
      ],
      "execution_count": 3,
      "outputs": [
        {
          "output_type": "stream",
          "name": "stdout",
          "text": [
            "      Name  Age\n",
            "0     Aman   10\n",
            "1    James   12\n",
            "2  Chandan   13\n"
          ]
        }
      ]
    },
    {
      "cell_type": "code",
      "metadata": {
        "colab": {
          "base_uri": "https://localhost:8080/"
        },
        "id": "ECp0Xmlet15r",
        "outputId": "ffb74da8-1387-431c-cdbf-27af1387d637"
      },
      "source": [
        "import pandas as pd\n",
        "data = {'Name':['Pushkar', 'Sam', 'Sunny', 'Ram'],'Age':[22,34,29,42]}\n",
        "df = pd.DataFrame(data)\n",
        "print (df)"
      ],
      "execution_count": 4,
      "outputs": [
        {
          "output_type": "stream",
          "name": "stdout",
          "text": [
            "      Name  Age\n",
            "0  Pushkar   22\n",
            "1      Sam   34\n",
            "2    Sunny   29\n",
            "3      Ram   42\n"
          ]
        }
      ]
    },
    {
      "cell_type": "code",
      "metadata": {
        "colab": {
          "base_uri": "https://localhost:8080/"
        },
        "id": "_2fRty7jt3A7",
        "outputId": "329c6067-cf3a-44d7-9f09-1696bc690741"
      },
      "source": [
        "import pandas as pd\n",
        "data = {'Name':['Pushkar', 'Sam', 'Sunny', 'Ram'],'Age':[22,34,29,42]}\n",
        "df = pd.DataFrame(data, index=['rank1','rank2','rank3','rank4'])\n",
        "print (df)"
      ],
      "execution_count": 5,
      "outputs": [
        {
          "output_type": "stream",
          "name": "stdout",
          "text": [
            "          Name  Age\n",
            "rank1  Pushkar   22\n",
            "rank2      Sam   34\n",
            "rank3    Sunny   29\n",
            "rank4      Ram   42\n"
          ]
        }
      ]
    },
    {
      "cell_type": "code",
      "metadata": {
        "colab": {
          "base_uri": "https://localhost:8080/"
        },
        "id": "D7BMZJpXt4Ly",
        "outputId": "32a89b52-90e7-436a-941b-7ec0f0c8ee66"
      },
      "source": [
        "import pandas as pd\n",
        "data = [{'a': 1, 'b': 2},{'a': 5, 'b': 10, 'c': 20}]\n",
        "df = pd.DataFrame(data)\n",
        "print (df)"
      ],
      "execution_count": 6,
      "outputs": [
        {
          "output_type": "stream",
          "name": "stdout",
          "text": [
            "   a   b     c\n",
            "0  1   2   NaN\n",
            "1  5  10  20.0\n"
          ]
        }
      ]
    },
    {
      "cell_type": "code",
      "metadata": {
        "colab": {
          "base_uri": "https://localhost:8080/"
        },
        "id": "vzwcR8r-t5Vy",
        "outputId": "6596d944-ba3b-4755-ba2d-5883908c6ba8"
      },
      "source": [
        "import pandas as pd\n",
        "data = [{'a': 1, 'b': 2},{'a': 5, 'b': 10, 'c': 20}]\n",
        "\n",
        "#With two column indices, values same as dictionary keys\n",
        "df1 = pd.DataFrame(data, index=['first', 'second'], columns=['a', 'b'])\n",
        "\n",
        "#With two column indices with one index with other name\n",
        "df2 = pd.DataFrame(data, index=['first', 'second'], columns=['a', 'b1'])\n",
        "print (df1)\n",
        "print (df2)"
      ],
      "execution_count": 7,
      "outputs": [
        {
          "output_type": "stream",
          "name": "stdout",
          "text": [
            "        a   b\n",
            "first   1   2\n",
            "second  5  10\n",
            "        a  b1\n",
            "first   1 NaN\n",
            "second  5 NaN\n"
          ]
        }
      ]
    },
    {
      "cell_type": "code",
      "metadata": {
        "colab": {
          "base_uri": "https://localhost:8080/"
        },
        "id": "JlFhXHTJt6fL",
        "outputId": "c38e7eca-c5c7-4131-f64e-9b9cd28c1f5c"
      },
      "source": [
        "import pandas as pd\n",
        "\n",
        "d = {'one' : pd.Series([1, 2, 3], index=['a', 'b', 'c']),\n",
        "   'two' : pd.Series([1, 2, 3, 4], index=['a', 'b', 'c', 'd'])}\n",
        "\n",
        "df = pd.DataFrame(d)\n",
        "print (df)"
      ],
      "execution_count": 8,
      "outputs": [
        {
          "output_type": "stream",
          "name": "stdout",
          "text": [
            "   one  two\n",
            "a  1.0    1\n",
            "b  2.0    2\n",
            "c  3.0    3\n",
            "d  NaN    4\n"
          ]
        }
      ]
    },
    {
      "cell_type": "code",
      "metadata": {
        "colab": {
          "base_uri": "https://localhost:8080/"
        },
        "id": "NFlq2mYjt7xi",
        "outputId": "bf05931e-e48b-42fe-cb54-9c3337e3d509"
      },
      "source": [
        "#column selection\n",
        "\n",
        "import pandas as pd\n",
        "\n",
        "d = {'one' : pd.Series([10, 22, 32], index=['a', 'b', 'c']),\n",
        "   'two' : pd.Series([1, 2, 3, 4], index=['a', 'b', 'c', 'd'])}\n",
        "\n",
        "df = pd.DataFrame(d)\n",
        "print (df['one'])"
      ],
      "execution_count": 9,
      "outputs": [
        {
          "output_type": "stream",
          "name": "stdout",
          "text": [
            "a    10.0\n",
            "b    22.0\n",
            "c    32.0\n",
            "d     NaN\n",
            "Name: one, dtype: float64\n"
          ]
        }
      ]
    },
    {
      "cell_type": "code",
      "metadata": {
        "colab": {
          "base_uri": "https://localhost:8080/"
        },
        "id": "2-HhZsaHt8va",
        "outputId": "3035181d-68f3-462c-95b2-5344e6a6a0f9"
      },
      "source": [
        "#column selection\n",
        "#presence of NAN will convert int to float\n",
        "\n",
        "import pandas as pd\n",
        "\n",
        "de = {'one' : pd.Series([10, 22, 32,44], index=['a', 'b', 'c','d']),\n",
        "   'two' : pd.Series([1, 2, 3, 4], index=['a', 'b', 'c', 'd'])}\n",
        "\n",
        "\n",
        "df = pd.DataFrame(de)\n",
        "print (df['one'])"
      ],
      "execution_count": 10,
      "outputs": [
        {
          "output_type": "stream",
          "name": "stdout",
          "text": [
            "a    10\n",
            "b    22\n",
            "c    32\n",
            "d    44\n",
            "Name: one, dtype: int64\n"
          ]
        }
      ]
    },
    {
      "cell_type": "code",
      "metadata": {
        "colab": {
          "base_uri": "https://localhost:8080/"
        },
        "id": "AUToWES7t90q",
        "outputId": "15274ecf-ac52-4722-bdc5-bf456c16d787"
      },
      "source": [
        "# Adding a new column to an existing DataFrame object with column label by passing new series\n",
        "\n",
        "import pandas as pd\n",
        "\n",
        "d = {'one' : pd.Series([1, 2, 3], index=['a', 'b', 'c']),\n",
        "   'two' : pd.Series([1, 2, 3, 4], index=['a', 'b', 'c', 'd'])}\n",
        "\n",
        "df = pd.DataFrame(d)\n",
        "\n",
        "print (df)\n",
        "\n",
        "print (\"Adding a new column by passing as Series:\")\n",
        "df['three']=pd.Series([10,20,30],index=['a','b','c'])\n",
        "print (df)\n",
        "\n",
        "print (\"Adding a new column using the existing columns in DataFrame:\")\n",
        "df['four']=df['two']+df['three']\n",
        "\n",
        "print (df)"
      ],
      "execution_count": 11,
      "outputs": [
        {
          "output_type": "stream",
          "name": "stdout",
          "text": [
            "   one  two\n",
            "a  1.0    1\n",
            "b  2.0    2\n",
            "c  3.0    3\n",
            "d  NaN    4\n",
            "Adding a new column by passing as Series:\n",
            "   one  two  three\n",
            "a  1.0    1   10.0\n",
            "b  2.0    2   20.0\n",
            "c  3.0    3   30.0\n",
            "d  NaN    4    NaN\n",
            "Adding a new column using the existing columns in DataFrame:\n",
            "   one  two  three  four\n",
            "a  1.0    1   10.0  11.0\n",
            "b  2.0    2   20.0  22.0\n",
            "c  3.0    3   30.0  33.0\n",
            "d  NaN    4    NaN   NaN\n"
          ]
        }
      ]
    },
    {
      "cell_type": "code",
      "metadata": {
        "colab": {
          "base_uri": "https://localhost:8080/"
        },
        "id": "JX9XSrPNt_Fl",
        "outputId": "5f5310c4-ab92-436a-f844-23a075bd0967"
      },
      "source": [
        "# Using the previous DataFrame, we will delete a column\n",
        "# using del function\n",
        "import pandas as pd\n",
        "\n",
        "d = {'one' : pd.Series([1, 2, 3], index=['a', 'b', 'c']), \n",
        "   'two' : pd.Series([1, 2, 3, 4], index=['a', 'b', 'c', 'd']), \n",
        "   'three' : pd.Series([10,20,30], index=['a','b','c'])}\n",
        "\n",
        "df = pd.DataFrame(d)\n",
        "print (\"Our dataframe is:\")\n",
        "print (df)\n",
        "\n",
        "# using del function\n",
        "print (\"Deleting the first column using DEL function:\")\n",
        "del df['one']\n",
        "print (df)\n",
        "# using pop function\n",
        "print (\"Deleting another column using POP function:\")\n",
        "df.pop('two')\n",
        "print (df)"
      ],
      "execution_count": 12,
      "outputs": [
        {
          "output_type": "stream",
          "name": "stdout",
          "text": [
            "Our dataframe is:\n",
            "   one  two  three\n",
            "a  1.0    1   10.0\n",
            "b  2.0    2   20.0\n",
            "c  3.0    3   30.0\n",
            "d  NaN    4    NaN\n",
            "Deleting the first column using DEL function:\n",
            "   two  three\n",
            "a    1   10.0\n",
            "b    2   20.0\n",
            "c    3   30.0\n",
            "d    4    NaN\n",
            "Deleting another column using POP function:\n",
            "   three\n",
            "a   10.0\n",
            "b   20.0\n",
            "c   30.0\n",
            "d    NaN\n"
          ]
        }
      ]
    },
    {
      "cell_type": "code",
      "metadata": {
        "colab": {
          "base_uri": "https://localhost:8080/"
        },
        "id": "17w4qprGuAco",
        "outputId": "81f450fd-60d0-47b9-d768-03663aad5d2b"
      },
      "source": [
        "#Selection by Label\n",
        "\n",
        "import pandas as pd\n",
        "\n",
        "d = {'one' : pd.Series([1, 2, 3], index=['a', 'b', 'c']), \n",
        "   'two' : pd.Series([1, 2, 3, 4], index=['a', 'b', 'c', 'd'])}\n",
        "\n",
        "df = pd.DataFrame(d)\n",
        "print (df.loc['b'])"
      ],
      "execution_count": 13,
      "outputs": [
        {
          "output_type": "stream",
          "name": "stdout",
          "text": [
            "one    2.0\n",
            "two    2.0\n",
            "Name: b, dtype: float64\n"
          ]
        }
      ]
    },
    {
      "cell_type": "code",
      "metadata": {
        "colab": {
          "base_uri": "https://localhost:8080/"
        },
        "id": "pYUwE0pGuBry",
        "outputId": "0b4cab96-03a6-49da-c15a-84fe4e807717"
      },
      "source": [
        "#Selection by integer location\n",
        "\n",
        "import pandas as pd\n",
        "\n",
        "d = {'one' : pd.Series([1, 2, 3], index=['a', 'b', 'c']),\n",
        "   'two' : pd.Series([1, 2, 3, 4], index=['a', 'b', 'c', 'd'])}\n",
        "\n",
        "df = pd.DataFrame(d)\n",
        "print (df.iloc[2])"
      ],
      "execution_count": 14,
      "outputs": [
        {
          "output_type": "stream",
          "name": "stdout",
          "text": [
            "one    3.0\n",
            "two    3.0\n",
            "Name: c, dtype: float64\n"
          ]
        }
      ]
    },
    {
      "cell_type": "code",
      "metadata": {
        "colab": {
          "base_uri": "https://localhost:8080/"
        },
        "id": "MnEF6qLyuC1T",
        "outputId": "95cfd302-cc1e-46bc-f487-282c69506834"
      },
      "source": [
        "#Slice Rows using : operator\n",
        "\n",
        "import pandas as pd\n",
        "\n",
        "d = {'one' : pd.Series([1, 2, 3], index=['a', 'b', 'c']), \n",
        "   'two' : pd.Series([1, 2, 3, 4], index=['a', 'b', 'c', 'd'])}\n",
        "\n",
        "df = pd.DataFrame(d)\n",
        "print (df[2:4])"
      ],
      "execution_count": 15,
      "outputs": [
        {
          "output_type": "stream",
          "name": "stdout",
          "text": [
            "   one  two\n",
            "c  3.0    3\n",
            "d  NaN    4\n"
          ]
        }
      ]
    },
    {
      "cell_type": "code",
      "metadata": {
        "colab": {
          "base_uri": "https://localhost:8080/"
        },
        "id": "dVrTkAY3uEAj",
        "outputId": "c6caecb3-3b98-445d-ba03-8daf9f998af1"
      },
      "source": [
        "#Addition of Rows using append\n",
        "\n",
        "import pandas as pd\n",
        "\n",
        "df = pd.DataFrame([[1, 2], [3, 4]], columns = ['a','b'])\n",
        "df2 = pd.DataFrame([[5, 6], [7, 8]], columns = ['a','b'])\n",
        "print (df)\n",
        "print(\"after appending\")\n",
        "df = df.append(df2)\n",
        "print (df)"
      ],
      "execution_count": 16,
      "outputs": [
        {
          "output_type": "stream",
          "name": "stdout",
          "text": [
            "   a  b\n",
            "0  1  2\n",
            "1  3  4\n",
            "after appending\n",
            "   a  b\n",
            "0  1  2\n",
            "1  3  4\n",
            "0  5  6\n",
            "1  7  8\n"
          ]
        }
      ]
    },
    {
      "cell_type": "code",
      "metadata": {
        "colab": {
          "base_uri": "https://localhost:8080/"
        },
        "id": "ypfJaiCbuFPz",
        "outputId": "cc5a7533-dfb5-4537-9e5e-671815e76866"
      },
      "source": [
        "#Deletion of Rows\n",
        "\n",
        "import pandas as pd\n",
        "\n",
        "df = pd.DataFrame([[1, 2], [3, 4]], columns = ['a','b'])\n",
        "df2 = pd.DataFrame([[5, 6], [7, 8]], columns = ['a','b'])\n",
        "\n",
        "df = df.append(df2)\n",
        "\n",
        "# Drop rows with label 0\n",
        "df = df.drop(0)\n",
        "\n",
        "print (df)"
      ],
      "execution_count": 17,
      "outputs": [
        {
          "output_type": "stream",
          "name": "stdout",
          "text": [
            "   a  b\n",
            "1  3  4\n",
            "1  7  8\n"
          ]
        }
      ]
    }
  ]
}