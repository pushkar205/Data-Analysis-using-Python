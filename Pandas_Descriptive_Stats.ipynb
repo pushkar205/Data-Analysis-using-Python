{
  "nbformat": 4,
  "nbformat_minor": 0,
  "metadata": {
    "colab": {
      "name": "Pandas Descriptive Stats",
      "provenance": [],
      "authorship_tag": "ABX9TyP3XJeg0CHEdTkVRLIvIf90",
      "include_colab_link": true
    },
    "kernelspec": {
      "name": "python3",
      "display_name": "Python 3"
    },
    "language_info": {
      "name": "python"
    }
  },
  "cells": [
    {
      "cell_type": "markdown",
      "metadata": {
        "id": "view-in-github",
        "colab_type": "text"
      },
      "source": [
        "<a href=\"https://colab.research.google.com/github/pushkar205/Data-Analysis-using-Python/blob/main/Pandas_Descriptive_Stats.ipynb\" target=\"_parent\"><img src=\"https://colab.research.google.com/assets/colab-badge.svg\" alt=\"Open In Colab\"/></a>"
      ]
    },
    {
      "cell_type": "code",
      "metadata": {
        "colab": {
          "base_uri": "https://localhost:8080/"
        },
        "id": "MTBhHveylVo1",
        "outputId": "23ae8aa8-1ac0-48dd-d6da-e9ccc4fb1170"
      },
      "source": [
        "import pandas as pd\n",
        "import numpy as np\n",
        "\n",
        "#Create a Dictionary of series\n",
        "d = {'Name':pd.Series(['chiku','Jerry','Ram','Sam','Shaggy','Sumit','Pushkar',\n",
        "   'Lee','Dave','Gaarry','Beck','Anand']),\n",
        "   'Age':pd.Series([25,26,25,23,30,21,20,34,40,30,51,46]),\n",
        "   'Rating':pd.Series([4.23,3.24,3.98,2.56,3.20,4.6,4.8,3.78,2.98,4.80,4.10,3.65])\n",
        "}\n",
        "\n",
        "#Create a DataFrame\n",
        "df = pd.DataFrame(d)\n",
        "print (df)"
      ],
      "execution_count": 13,
      "outputs": [
        {
          "output_type": "stream",
          "name": "stdout",
          "text": [
            "       Name  Age  Rating\n",
            "0     chiku   25    4.23\n",
            "1     Jerry   26    3.24\n",
            "2       Ram   25    3.98\n",
            "3       Sam   23    2.56\n",
            "4    Shaggy   30    3.20\n",
            "5     Sumit   21    4.60\n",
            "6   Pushkar   20    4.80\n",
            "7       Lee   34    3.78\n",
            "8      Dave   40    2.98\n",
            "9    Gaarry   30    4.80\n",
            "10     Beck   51    4.10\n",
            "11    Anand   46    3.65\n"
          ]
        }
      ]
    },
    {
      "cell_type": "code",
      "metadata": {
        "colab": {
          "base_uri": "https://localhost:8080/"
        },
        "id": "VHc8q9k_mDhj",
        "outputId": "c48f2609-5417-4c58-d0cb-1c08cc4a00b9"
      },
      "source": [
        "import pandas as pd\n",
        "import numpy as np\n",
        " \n",
        "#Create a Dictionary of series\n",
        "d = {'Name':pd.Series(['chiku','Jerry','Ram','Sam','Shaggy','Sumit','Pushkar',\n",
        "   'Lee','Dave','Gaarry','Beck','Anand']),\n",
        "   'Age':pd.Series([25,26,25,23,30,21,20,34,40,30,51,46]),\n",
        "   'Rating':pd.Series([4.23,3.24,3.98,2.56,3.20,4.6,4.8,3.78,2.98,4.80,4.10,3.65])\n",
        "}\n",
        "\n",
        "#Create a DataFrame\n",
        "df = pd.DataFrame(d)\n",
        "print (df.sum())\n"
      ],
      "execution_count": 14,
      "outputs": [
        {
          "output_type": "stream",
          "name": "stdout",
          "text": [
            "Name      chikuJerryRamSamShaggySumitPushkarLeeDaveGaarr...\n",
            "Age                                                     371\n",
            "Rating                                                45.92\n",
            "dtype: object\n"
          ]
        }
      ]
    },
    {
      "cell_type": "code",
      "metadata": {
        "colab": {
          "base_uri": "https://localhost:8080/"
        },
        "id": "l4ax-PDXmE1L",
        "outputId": "de5067ff-918b-4910-ee30-492225e3f88b"
      },
      "source": [
        "import pandas as pd\n",
        "import numpy as np\n",
        " \n",
        "#Create a Dictionary of series\n",
        "d = {'Name':pd.Series(['chiku','Jerry','Ram','Sam','Shaggy','Sumit','Pushkar',\n",
        "   'Lee','Dave','Gaarry','Beck','Anand']),\n",
        "   'Age':pd.Series([25,26,25,23,30,21,20,34,40,30,51,46]),\n",
        "   'Rating':pd.Series([4.23,3.24,3.98,2.56,3.20,4.6,4.8,3.78,2.98,4.80,4.10,3.65])\n",
        "}\n",
        " \n",
        "#Create a DataFrame\n",
        "df = pd.DataFrame(d)\n",
        "print (df.sum(1))"
      ],
      "execution_count": 15,
      "outputs": [
        {
          "output_type": "stream",
          "name": "stdout",
          "text": [
            "0     29.23\n",
            "1     29.24\n",
            "2     28.98\n",
            "3     25.56\n",
            "4     33.20\n",
            "5     25.60\n",
            "6     24.80\n",
            "7     37.78\n",
            "8     42.98\n",
            "9     34.80\n",
            "10    55.10\n",
            "11    49.65\n",
            "dtype: float64\n"
          ]
        }
      ]
    },
    {
      "cell_type": "code",
      "metadata": {
        "colab": {
          "base_uri": "https://localhost:8080/"
        },
        "id": "_HJtDcv8mGKT",
        "outputId": "fad59a0a-bffe-4c3b-d857-76e47dfbfb9f"
      },
      "source": [
        "import pandas as pd\n",
        "import numpy as np\n",
        "\n",
        "#Create a Dictionary of series\n",
        "d = {'Name':pd.Series(['chiku','Jerry','Ram','Sam','Shaggy','Sumit','Pushkar',\n",
        "   'Lee','Dave','Gaarry','Beck','Anand']),\n",
        "   'Age':pd.Series([25,26,25,23,30,21,20,34,40,30,51,46]),\n",
        "   'Rating':pd.Series([4.23,3.24,3.98,2.56,3.20,4.6,4.8,3.78,2.98,4.80,4.10,3.65])\n",
        "}\n",
        "\n",
        "#Create a DataFrame\n",
        "df = pd.DataFrame(d)\n",
        "print (df.mean())"
      ],
      "execution_count": 16,
      "outputs": [
        {
          "output_type": "stream",
          "name": "stdout",
          "text": [
            "Age       30.916667\n",
            "Rating     3.826667\n",
            "dtype: float64\n"
          ]
        }
      ]
    },
    {
      "cell_type": "code",
      "metadata": {
        "colab": {
          "base_uri": "https://localhost:8080/"
        },
        "id": "-iaVLrScmHj7",
        "outputId": "0d1ee09a-ad00-4855-d9c4-01873aa4495b"
      },
      "source": [
        "import pandas as pd\n",
        "import numpy as np\n",
        "\n",
        "#Create a Dictionary of series\n",
        "d = {'Name':pd.Series(['chiku','Jerry','Ram','Sam','Shaggy','Sumit','Pushkar',\n",
        "   'Lee','Dave','Gaarry','Beck','Anand']),\n",
        "   'Age':pd.Series([25,26,25,23,30,21,20,34,40,30,51,46]),\n",
        "   'Rating':pd.Series([4.23,3.24,3.98,2.56,3.20,4.6,4.8,3.78,2.98,4.80,4.10,3.65])\n",
        "}\n",
        "\n",
        "#Create a DataFrame\n",
        "df = pd.DataFrame(d)\n",
        "print (df.std())"
      ],
      "execution_count": 17,
      "outputs": [
        {
          "output_type": "stream",
          "name": "stdout",
          "text": [
            "Age       9.995075\n",
            "Rating    0.728964\n",
            "dtype: float64\n"
          ]
        }
      ]
    },
    {
      "cell_type": "code",
      "metadata": {
        "colab": {
          "base_uri": "https://localhost:8080/"
        },
        "id": "jYmuO-DmmJGs",
        "outputId": "d7b4ec99-3f94-41fd-e22e-9f27a512b15e"
      },
      "source": [
        "import pandas as pd\n",
        "import numpy as np\n",
        "\n",
        "#Create a Dictionary of series\n",
        "d = {'Name':pd.Series(['chiku','Jerry','Ram','Sam','Shaggy','Sumit','Pushkar',\n",
        "   'Lee','Dave','Gaarry','Beck','Anand']),\n",
        "   'Age':pd.Series([25,26,25,23,30,21,20,34,40,30,51,46]),\n",
        "   'Rating':pd.Series([4.23,3.24,3.98,2.56,3.20,4.6,4.8,3.78,2.98,4.80,4.10,3.65])\n",
        "}\n",
        "\n",
        "#Create a DataFrame\n",
        "df = pd.DataFrame(d)\n",
        "print (df.describe())"
      ],
      "execution_count": 18,
      "outputs": [
        {
          "output_type": "stream",
          "name": "stdout",
          "text": [
            "             Age     Rating\n",
            "count  12.000000  12.000000\n",
            "mean   30.916667   3.826667\n",
            "std     9.995075   0.728964\n",
            "min    20.000000   2.560000\n",
            "25%    24.500000   3.230000\n",
            "50%    28.000000   3.880000\n",
            "75%    35.500000   4.322500\n",
            "max    51.000000   4.800000\n"
          ]
        }
      ]
    },
    {
      "cell_type": "code",
      "metadata": {
        "colab": {
          "base_uri": "https://localhost:8080/"
        },
        "id": "5sgIObB5mKVL",
        "outputId": "2fd50ade-1541-47d9-8313-cec0188fdbfd"
      },
      "source": [
        "import pandas as pd\n",
        "import numpy as np\n",
        "\n",
        "#Create a Dictionary of series\n",
        "d = {'Name':pd.Series(['chiku','Jerry','Ram','Sam','Shaggy','Sumit','Pushkar',\n",
        "   'Lee','Dave','Gaarry','Beck','Anand']),\n",
        "   'Age':pd.Series([25,26,25,23,30,21,20,34,40,30,51,46]),\n",
        "   'Rating':pd.Series([4.23,3.24,3.98,2.56,3.20,4.6,4.8,3.78,2.98,4.80,4.10,3.65])\n",
        "}\n",
        "\n",
        "#Create a DataFrame\n",
        "df = pd.DataFrame(d)\n",
        "print (df.describe(include=['object']))"
      ],
      "execution_count": 19,
      "outputs": [
        {
          "output_type": "stream",
          "name": "stdout",
          "text": [
            "         Name\n",
            "count      12\n",
            "unique     12\n",
            "top     Jerry\n",
            "freq        1\n"
          ]
        }
      ]
    },
    {
      "cell_type": "code",
      "metadata": {
        "colab": {
          "base_uri": "https://localhost:8080/"
        },
        "id": "sE8gEIMXmL0y",
        "outputId": "c5f2fc8d-7a3b-405f-95ce-d024dabbc8f3"
      },
      "source": [
        "import pandas as pd\n",
        "import numpy as np\n",
        "\n",
        "#Create a Dictionary of series\n",
        "d = {'Name':pd.Series(['chiku','Jerry','Ram','Sam','Shaggy','Sumit','Pushkar',\n",
        "   'Lee','Dave','Gaarry','Beck','Anand']),\n",
        "   'Age':pd.Series([25,26,25,23,30,21,20,34,40,30,51,46]),\n",
        "   'Rating':pd.Series([4.23,3.24,3.98,2.56,3.20,4.6,4.8,3.78,2.98,4.80,4.10,3.65])\n",
        "}\n",
        "\n",
        "#Create a DataFrame\n",
        "df = pd.DataFrame(d)\n",
        "print (df. describe(include='all'))"
      ],
      "execution_count": 20,
      "outputs": [
        {
          "output_type": "stream",
          "name": "stdout",
          "text": [
            "         Name        Age     Rating\n",
            "count      12  12.000000  12.000000\n",
            "unique     12        NaN        NaN\n",
            "top     Jerry        NaN        NaN\n",
            "freq        1        NaN        NaN\n",
            "mean      NaN  30.916667   3.826667\n",
            "std       NaN   9.995075   0.728964\n",
            "min       NaN  20.000000   2.560000\n",
            "25%       NaN  24.500000   3.230000\n",
            "50%       NaN  28.000000   3.880000\n",
            "75%       NaN  35.500000   4.322500\n",
            "max       NaN  51.000000   4.800000\n"
          ]
        }
      ]
    },
    {
      "cell_type": "code",
      "metadata": {
        "colab": {
          "base_uri": "https://localhost:8080/"
        },
        "id": "iiGSg2VPmNe1",
        "outputId": "a2338669-0628-4c1c-fdaa-9011917729c6"
      },
      "source": [
        "# Import package\n",
        "from pandas import DataFrame\n",
        "\n",
        "# Create DataFrame\n",
        "cart = {'Product': ['Mouse', 'PC', 'Mobile', 'Keyboard', 'Laptop'],\n",
        "\t\t'Price': [1800, 180000, 26000, 2000, 45000],\n",
        "\t\t'Year': [2019, 2020, 2021, 2020, 2021]\n",
        "\t\t}\n",
        "df = DataFrame(cart, columns = ['Product', 'Price', 'Year'])\n",
        "\n",
        "# Original DataFrame\n",
        "print(\"Original DataFrame:\\n\", df)\n",
        "\n",
        "# Describing descriptive statistics of Price\n",
        "print(\"\\nDescriptive statistics of Price:\\n\")\n",
        "stats = df['Price'].describe()\n",
        "print(stats)\n"
      ],
      "execution_count": 21,
      "outputs": [
        {
          "output_type": "stream",
          "name": "stdout",
          "text": [
            "Original DataFrame:\n",
            "     Product   Price  Year\n",
            "0     Mouse    1800  2019\n",
            "1        PC  180000  2020\n",
            "2    Mobile   26000  2021\n",
            "3  Keyboard    2000  2020\n",
            "4    Laptop   45000  2021\n",
            "\n",
            "Descriptive statistics of Price:\n",
            "\n",
            "count         5.000000\n",
            "mean      50960.000000\n",
            "std       74370.074627\n",
            "min        1800.000000\n",
            "25%        2000.000000\n",
            "50%       26000.000000\n",
            "75%       45000.000000\n",
            "max      180000.000000\n",
            "Name: Price, dtype: float64\n"
          ]
        }
      ]
    },
    {
      "cell_type": "code",
      "metadata": {
        "colab": {
          "base_uri": "https://localhost:8080/"
        },
        "id": "F1FZjx1jmOxj",
        "outputId": "3b2ceaa9-13ce-438e-a1e2-625db5be1662"
      },
      "source": [
        "# Import package\n",
        "\n",
        "\n",
        "# Create DataFrame\n",
        "cart = {'Product': ['Mouse', 'PC', 'Mobile', 'Keyboard', 'Laptop'],\n",
        "\t\t'Price': [1800, 180000, 26000, 2000, 45000],\n",
        "\t\t'Year': [2019, 2020, 2021, 2020, 2021]\n",
        "\t\t}\n",
        "df = DataFrame(cart, columns = ['Product', 'Price', 'Year'])\n",
        "\n",
        "# Original DataFrame\n",
        "print(\"Original DataFrame:\\n\", df)\n",
        "\n",
        "# Describing descriptive statistics of Year\n",
        "print(\"\\nDescriptive statistics of year:\\n\")\n",
        "stats = df['Year'].describe()\n",
        "print(stats)\n"
      ],
      "execution_count": 22,
      "outputs": [
        {
          "output_type": "stream",
          "name": "stdout",
          "text": [
            "Original DataFrame:\n",
            "     Product   Price  Year\n",
            "0     Mouse    1800  2019\n",
            "1        PC  180000  2020\n",
            "2    Mobile   26000  2021\n",
            "3  Keyboard    2000  2020\n",
            "4    Laptop   45000  2021\n",
            "\n",
            "Descriptive statistics of year:\n",
            "\n",
            "count       5.00000\n",
            "mean     2020.20000\n",
            "std         0.83666\n",
            "min      2019.00000\n",
            "25%      2020.00000\n",
            "50%      2020.00000\n",
            "75%      2021.00000\n",
            "max      2021.00000\n",
            "Name: Year, dtype: float64\n"
          ]
        }
      ]
    },
    {
      "cell_type": "code",
      "metadata": {
        "colab": {
          "base_uri": "https://localhost:8080/"
        },
        "id": "aolQVoUgmQkD",
        "outputId": "6f6a9894-d6de-4d50-d34f-e970299eff4f"
      },
      "source": [
        "\n",
        "\n",
        "# Create DataFrame\n",
        "cart = {'Product': ['Mouse', 'PC', 'Mobile', 'Keyboard', 'Laptop'],\n",
        "\t\t'Price': [1800, 180000, 26000, 2000, 45000],\n",
        "\t\t'Year': [2019, 2020, 2021, 2020, 2021]\n",
        "\t\t}\n",
        "df = DataFrame(cart, columns = ['Product', 'Price', 'Year'])\n",
        "\n",
        "# Original DataFrame\n",
        "print(\"Original DataFrame:\\n\", df)\n",
        "\n",
        "# Describing descriptive statistics of whole dataframe\n",
        "print(\"\\nDescriptive statistics of whole dataframe:\\n\")\n",
        "stats = df.describe(include = 'all')\n",
        "print(stats)\n"
      ],
      "execution_count": 23,
      "outputs": [
        {
          "output_type": "stream",
          "name": "stdout",
          "text": [
            "Original DataFrame:\n",
            "     Product   Price  Year\n",
            "0     Mouse    1800  2019\n",
            "1        PC  180000  2020\n",
            "2    Mobile   26000  2021\n",
            "3  Keyboard    2000  2020\n",
            "4    Laptop   45000  2021\n",
            "\n",
            "Descriptive statistics of whole dataframe:\n",
            "\n",
            "       Product          Price        Year\n",
            "count        5       5.000000     5.00000\n",
            "unique       5            NaN         NaN\n",
            "top     Laptop            NaN         NaN\n",
            "freq         1            NaN         NaN\n",
            "mean       NaN   50960.000000  2020.20000\n",
            "std        NaN   74370.074627     0.83666\n",
            "min        NaN    1800.000000  2019.00000\n",
            "25%        NaN    2000.000000  2020.00000\n",
            "50%        NaN   26000.000000  2020.00000\n",
            "75%        NaN   45000.000000  2021.00000\n",
            "max        NaN  180000.000000  2021.00000\n"
          ]
        }
      ]
    },
    {
      "cell_type": "code",
      "metadata": {
        "colab": {
          "base_uri": "https://localhost:8080/"
        },
        "id": "8GROqI_lmR9b",
        "outputId": "977237e6-af11-46f0-e2be-0118b5350d85"
      },
      "source": [
        "\n",
        "\n",
        "# Create DataFrame\n",
        "cart = {'Product': ['Mouse', 'PC', 'Mobile', 'Keyboard', 'Laptop'],\n",
        "\t\t'Price': [1800, 180000, 26000, 2000, 45000],\n",
        "\t\t'Year': [2019, 2020, 2021, 2020, 2021]\n",
        "\t\t}\n",
        "df = DataFrame(cart, columns = ['Product', 'Price', 'Year'])\n",
        "\n",
        "# Original DataFrame\n",
        "print(\"Original DataFrame:\\n\", df)\n",
        "\n",
        "# Print Count of Price\n",
        "print(\"\\nCount of Price:\\n\")\n",
        "counts = df['Price'].count()\n",
        "print(counts)\n",
        "\n",
        "# Print mean of Price\n",
        "print(\"\\nMean of Price:\\n\")\n",
        "m = df['Price'].mean()\n",
        "print(m)\n",
        "\n",
        "# Print maximum value of Price\n",
        "print(\"\\nMaximum value of Price:\\n\")\n",
        "mx = df['Price'].max()\n",
        "print(m)\n",
        "\n",
        "# Print standard deviation of Price\n",
        "print(\"\\nStandard deviation of Price:\\n\")\n",
        "sd = df['Price'].std()\n",
        "print(sd)\n"
      ],
      "execution_count": 25,
      "outputs": [
        {
          "output_type": "stream",
          "name": "stdout",
          "text": [
            "Original DataFrame:\n",
            "     Product   Price  Year\n",
            "0     Mouse    1800  2019\n",
            "1        PC  180000  2020\n",
            "2    Mobile   26000  2021\n",
            "3  Keyboard    2000  2020\n",
            "4    Laptop   45000  2021\n",
            "\n",
            "Count of Price:\n",
            "\n",
            "5\n",
            "\n",
            "Mean of Price:\n",
            "\n",
            "50960.0\n",
            "\n",
            "Maximum value of Price:\n",
            "\n",
            "50960.0\n",
            "\n",
            "Standard deviation of Price:\n",
            "\n",
            "74370.07462682822\n"
          ]
        }
      ]
    }
  ]
}