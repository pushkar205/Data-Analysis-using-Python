{
  "nbformat": 4,
  "nbformat_minor": 0,
  "metadata": {
    "colab": {
      "name": "Numpy Arithematic Operation",
      "provenance": [],
      "authorship_tag": "ABX9TyN+0c8VYmZ+hS7H2rwNn1E4",
      "include_colab_link": true
    },
    "kernelspec": {
      "name": "python3",
      "display_name": "Python 3"
    },
    "language_info": {
      "name": "python"
    }
  },
  "cells": [
    {
      "cell_type": "markdown",
      "metadata": {
        "id": "view-in-github",
        "colab_type": "text"
      },
      "source": [
        "<a href=\"https://colab.research.google.com/github/pushkar205/Data-Analysis-using-Python/blob/main/Numpy_Arithematic_Operation.ipynb\" target=\"_parent\"><img src=\"https://colab.research.google.com/assets/colab-badge.svg\" alt=\"Open In Colab\"/></a>"
      ]
    },
    {
      "cell_type": "code",
      "metadata": {
        "colab": {
          "base_uri": "https://localhost:8080/"
        },
        "id": "q2DtiK49vgfg",
        "outputId": "bf8162b0-2fcc-44b9-85e7-43f3f938a96b"
      },
      "source": [
        "import numpy as np\n",
        "\n",
        "a=np.array(9)\n",
        "\n",
        "print(\"Print A = \", a)\n",
        "\n",
        "b=np.array([10,20,30])\n",
        "\n",
        "print(\"Print B = \", b)\n",
        "\n",
        "addition= np.add(a,b)\n",
        "\n",
        "print(\"After Addition =\", addition)\n",
        "\n",
        "sub=np.subtract(b,a)\n",
        "\n",
        "print(\"After Subtraction =\", sub)\n",
        "\n",
        "mul=np.multiply (a,b)\n",
        "\n",
        "print(\"After Multiplcation =\", mul)\n",
        "\n",
        "div=np.divide (b,a)\n",
        "\n",
        "print(\"After Division =\", div)\n",
        "\n",
        "div1=np.divide (b,5)\n",
        "\n",
        "print(\"After Division =\", div1)"
      ],
      "execution_count": 1,
      "outputs": [
        {
          "output_type": "stream",
          "name": "stdout",
          "text": [
            "Print A=  9\n",
            "Print B=  [10 20 30]\n",
            "After Addition = [19 29 39]\n",
            "After Subtraction = [ 1 11 21]\n",
            "After Multiplcation = [ 90 180 270]\n",
            "After Division = [1.11111111 2.22222222 3.33333333]\n",
            "After Division = [2. 4. 6.]\n"
          ]
        }
      ]
    },
    {
      "cell_type": "code",
      "metadata": {
        "colab": {
          "base_uri": "https://localhost:8080/"
        },
        "id": "hat1EuALvq8G",
        "outputId": "23443692-3da6-4581-b82f-3ec72e5cf5d9"
      },
      "source": [
        "#reciprocal\n",
        "\n",
        "a= np.array([0.25,1.33,1,111])\n",
        "\n",
        "print(a)\n",
        "\n",
        "rec=np.reciprocal(a) \n",
        "print(rec)"
      ],
      "execution_count": 2,
      "outputs": [
        {
          "output_type": "stream",
          "name": "stdout",
          "text": [
            "[  0.25   1.33   1.   111.  ]\n",
            "[4.         0.7518797  1.         0.00900901]\n"
          ]
        }
      ]
    },
    {
      "cell_type": "code",
      "metadata": {
        "colab": {
          "base_uri": "https://localhost:8080/"
        },
        "id": "gPu_8vEYvsCT",
        "outputId": "5bfe4036-51e0-46f8-aa2f-4b9957ccf902"
      },
      "source": [
        "a=np.array([10,100,1000])\n",
        "\n",
        "print(a)\n",
        "\n",
        "pow=np.power(a,2)\n",
        "print(\"after ^2 = \", pow)\n",
        "\n",
        "\n",
        "b=np.array([2,3,1])\n",
        "\n",
        "pow1=np.power(a,b)\n",
        "print(\"after b array elements as ^ = \", pow1)\n"
      ],
      "execution_count": 3,
      "outputs": [
        {
          "output_type": "stream",
          "name": "stdout",
          "text": [
            "[  10  100 1000]\n",
            "after ^2 =  [    100   10000 1000000]\n",
            "after b array elements as ^ =  [    100 1000000    1000]\n"
          ]
        }
      ]
    },
    {
      "cell_type": "code",
      "metadata": {
        "colab": {
          "base_uri": "https://localhost:8080/"
        },
        "id": "YXNZ9ZtMvtSj",
        "outputId": "6a629804-c00e-4eef-fca2-bd1ef42e03e7"
      },
      "source": [
        "a= np.array ([100,200,300])\n",
        "b= np.array ([30,50,70])\n",
        "\n",
        "print(\"values of A=\", a)\n",
        "print(\"values of B=\", b)\n",
        "\n",
        "mm=np.mod(a,b)\n",
        "\n",
        "rm=np.remainder(a,b)\n",
        "\n",
        "print(\"values of MOD=\", mm)\n",
        "print(\"values of REMAINDER=\", rm)\n",
        "\n"
      ],
      "execution_count": 8,
      "outputs": [
        {
          "output_type": "stream",
          "name": "stdout",
          "text": [
            "values of A= [100 200 300]\n",
            "values of B= [30 50 70]\n",
            "values of MOD= [10  0 20]\n",
            "values of REMAINDER= [10  0 20]\n"
          ]
        }
      ]
    },
    {
      "cell_type": "code",
      "metadata": {
        "colab": {
          "base_uri": "https://localhost:8080/"
        },
        "id": "yKON4xkyvumz",
        "outputId": "46d7dac5-ddeb-4d98-8035-22ac22a29c44"
      },
      "source": [
        "a=np.array([-5.6j, 0.2j,11, 1+1j])\n",
        "print(a)\n",
        "\n",
        "print(\"real=\",np.real(a))\n",
        "\n",
        "print(\"imaginary=\",np.imag(a))\n",
        "\n",
        "print(\"Conjugate=\", np.conj(a))"
      ],
      "execution_count": 5,
      "outputs": [
        {
          "output_type": "stream",
          "name": "stdout",
          "text": [
            "[-0.-5.6j  0.+0.2j 11.+0.j   1.+1.j ]\n",
            "real= [-0.  0. 11.  1.]\n",
            "imaginary= [-5.6  0.2  0.   1. ]\n",
            "Conjugate= [-0.+5.6j  0.-0.2j 11.-0.j   1.-1.j ]\n"
          ]
        }
      ]
    },
    {
      "cell_type": "code",
      "metadata": {
        "colab": {
          "base_uri": "https://localhost:8080/"
        },
        "id": "ZrHXt8N2vvpq",
        "outputId": "859a1c52-62cc-4301-c8a3-14e7dfcd1cf9"
      },
      "source": [
        "a=np.array ([1.0,5.3,123,0.56,25.5,32])\n",
        "\n",
        "print(a)\n",
        "\n",
        "print(\"after rounding up=\", np.around(a))\n",
        "\n",
        "print(\"after rounding up to 1st decimal value =\", np.around(a,decimals=1))"
      ],
      "execution_count": 6,
      "outputs": [
        {
          "output_type": "stream",
          "name": "stdout",
          "text": [
            "[  1.     5.3  123.     0.56  25.5   32.  ]\n",
            "after rounding up= [  1.   5. 123.   1.  26.  32.]\n",
            "after rounding up to 1st decimal value = [  1.    5.3 123.    0.6  25.5  32. ]\n"
          ]
        }
      ]
    },
    {
      "cell_type": "code",
      "metadata": {
        "colab": {
          "base_uri": "https://localhost:8080/"
        },
        "id": "cOWYgcwpvwxr",
        "outputId": "960b33b6-4ac3-42af-efd4-cd53af513960"
      },
      "source": [
        "a=np.array ([1.0,-5.3,123,-0.56,25.5,32])\n",
        "\n",
        "print(a)\n",
        "\n",
        "print('\\n')\n",
        "\n",
        "print(np.floor(a))\n",
        "\n",
        "print(np.ceil(a))"
      ],
      "execution_count": 7,
      "outputs": [
        {
          "output_type": "stream",
          "name": "stdout",
          "text": [
            "[  1.    -5.3  123.    -0.56  25.5   32.  ]\n",
            "\n",
            "\n",
            "[  1.  -6. 123.  -1.  25.  32.]\n",
            "[  1.  -5. 123.  -0.  26.  32.]\n"
          ]
        }
      ]
    }
  ]
}