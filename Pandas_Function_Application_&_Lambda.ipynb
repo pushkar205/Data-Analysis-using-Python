{
  "nbformat": 4,
  "nbformat_minor": 0,
  "metadata": {
    "colab": {
      "name": "Pandas-Function Application & Lambda",
      "provenance": [],
      "authorship_tag": "ABX9TyNLGk10AV5C+GSUNTDaTk0T",
      "include_colab_link": true
    },
    "kernelspec": {
      "name": "python3",
      "display_name": "Python 3"
    },
    "language_info": {
      "name": "python"
    }
  },
  "cells": [
    {
      "cell_type": "markdown",
      "metadata": {
        "id": "view-in-github",
        "colab_type": "text"
      },
      "source": [
        "<a href=\"https://colab.research.google.com/github/pushkar205/Data-Analysis-using-Python/blob/main/Pandas_Function_Application_%26_Lambda.ipynb\" target=\"_parent\"><img src=\"https://colab.research.google.com/assets/colab-badge.svg\" alt=\"Open In Colab\"/></a>"
      ]
    },
    {
      "cell_type": "code",
      "metadata": {
        "colab": {
          "base_uri": "https://localhost:8080/"
        },
        "id": "aRe--Vi-pl-X",
        "outputId": "6b9499fe-bd65-490f-b2b9-9ffbf83ab80e"
      },
      "source": [
        "import pandas as pd\n",
        "import numpy as np\n",
        "\n",
        "def adder(ele1,ele2):\n",
        "   return ele1+ele2\n",
        "\n",
        "df = pd.DataFrame(np.random.randn(5,3),columns=['col1','col2','col3'])\n",
        "print(df)\n",
        "print(\"printing the results of pipe\")\n",
        "print(df.pipe(adder,2))"
      ],
      "execution_count": 11,
      "outputs": [
        {
          "output_type": "stream",
          "name": "stdout",
          "text": [
            "       col1      col2      col3\n",
            "0 -2.093628 -0.700957  0.024107\n",
            "1  0.208686  2.106078  1.501924\n",
            "2 -0.479155  0.450428  0.083193\n",
            "3  0.714281 -0.352612 -0.491938\n",
            "4 -1.118881 -1.652310  0.450655\n",
            "printing the results of pipe\n",
            "       col1      col2      col3\n",
            "0 -0.093628  1.299043  2.024107\n",
            "1  2.208686  4.106078  3.501924\n",
            "2  1.520845  2.450428  2.083193\n",
            "3  2.714281  1.647388  1.508062\n",
            "4  0.881119  0.347690  2.450655\n"
          ]
        }
      ]
    },
    {
      "cell_type": "code",
      "metadata": {
        "colab": {
          "base_uri": "https://localhost:8080/"
        },
        "id": "He7kWMHppvNL",
        "outputId": "91200e4f-ed55-4fd6-ae2f-fcb868957056"
      },
      "source": [
        "import pandas as pd\n",
        "import numpy as np\n",
        "\n",
        "def adder(ele1,ele2):\n",
        "   return ele1+ele2\n",
        "\n",
        "df = pd.DataFrame(np.random.randn(5,3),columns=['col1','col2','col3'])\n",
        "print(df)\n",
        "\n",
        "print (df.apply(np.mean))"
      ],
      "execution_count": 12,
      "outputs": [
        {
          "output_type": "stream",
          "name": "stdout",
          "text": [
            "       col1      col2      col3\n",
            "0 -0.840084 -0.085411 -0.636255\n",
            "1  1.144132 -0.076061 -0.882224\n",
            "2  0.837598 -1.107020 -0.793535\n",
            "3 -0.564605 -0.951493  0.932387\n",
            "4 -1.401213  0.157288 -0.055473\n",
            "col1   -0.164835\n",
            "col2   -0.412540\n",
            "col3   -0.287020\n",
            "dtype: float64\n"
          ]
        }
      ]
    },
    {
      "cell_type": "code",
      "metadata": {
        "colab": {
          "base_uri": "https://localhost:8080/"
        },
        "id": "YIx-Mi1VpwYy",
        "outputId": "615c0a87-d0c7-4a58-b8cc-1cd466d61f32"
      },
      "source": [
        "import pandas as pd\n",
        "import numpy as np\n",
        "\n",
        "df = pd.DataFrame(np.random.randn(5,3),columns=['col1','col2','col3'])\n",
        "print(df)\n",
        "\n",
        "print (df.apply(np.mean,axis=1))"
      ],
      "execution_count": 13,
      "outputs": [
        {
          "output_type": "stream",
          "name": "stdout",
          "text": [
            "       col1      col2      col3\n",
            "0  0.382999 -0.049906 -0.627607\n",
            "1  1.883726  0.127588  0.244666\n",
            "2 -0.364313 -0.095163 -0.331675\n",
            "3 -0.927613  1.619941  0.129117\n",
            "4  0.516243  0.664927  0.124364\n",
            "0   -0.098171\n",
            "1    0.751993\n",
            "2   -0.263717\n",
            "3    0.273815\n",
            "4    0.435178\n",
            "dtype: float64\n"
          ]
        }
      ]
    },
    {
      "cell_type": "code",
      "metadata": {
        "colab": {
          "base_uri": "https://localhost:8080/"
        },
        "id": "CwfM01NKpxqL",
        "outputId": "4ae37d7f-adb7-4ab0-c5fa-b5bd769191db"
      },
      "source": [
        "import pandas as pd\n",
        "import numpy as np\n",
        "df = pd.DataFrame(np.random.randn(5,3),columns=['col1','col2','col3'])\n",
        "print(df)\n",
        "\n",
        "print(df['col1'].map(lambda x:x*100))\n"
      ],
      "execution_count": 14,
      "outputs": [
        {
          "output_type": "stream",
          "name": "stdout",
          "text": [
            "       col1      col2      col3\n",
            "0  0.534034  0.060933 -0.183395\n",
            "1  0.210730  0.211979 -1.039158\n",
            "2 -0.614929  0.102553 -0.178482\n",
            "3  0.463669  1.312218 -0.795892\n",
            "4  0.927281 -0.599071  0.536604\n",
            "0    53.403391\n",
            "1    21.073045\n",
            "2   -61.492926\n",
            "3    46.366895\n",
            "4    92.728086\n",
            "Name: col1, dtype: float64\n"
          ]
        }
      ]
    },
    {
      "cell_type": "code",
      "metadata": {
        "colab": {
          "base_uri": "https://localhost:8080/"
        },
        "id": "fEXXDg_ip0fr",
        "outputId": "29114392-e4e3-4fa7-d4b4-77a27179c6c2"
      },
      "source": [
        "df=pd.DataFrame({'id':[1,2,3,4,5],'name':['aman','Pushkar','sam','bhaskar','chaman'],'age':[11,22,33,44,55], 'income':[9999,8888,7777,6666,5555]})\n",
        "print(df)"
      ],
      "execution_count": 15,
      "outputs": [
        {
          "output_type": "stream",
          "name": "stdout",
          "text": [
            "   id     name  age  income\n",
            "0   1     aman   11    9999\n",
            "1   2  Pushkar   22    8888\n",
            "2   3      sam   33    7777\n",
            "3   4  bhaskar   44    6666\n",
            "4   5   chaman   55    5555\n"
          ]
        }
      ]
    },
    {
      "cell_type": "code",
      "metadata": {
        "colab": {
          "base_uri": "https://localhost:8080/"
        },
        "id": "cGetpTKIp2Ji",
        "outputId": "0396dd46-72fa-4cf2-e32b-e611fed559f0"
      },
      "source": [
        "df['age']=df.apply(lambda x: x['age']+3, axis=1)\n",
        "print(df)"
      ],
      "execution_count": 16,
      "outputs": [
        {
          "output_type": "stream",
          "name": "stdout",
          "text": [
            "   id     name  age  income\n",
            "0   1     aman   14    9999\n",
            "1   2  Pushkar   25    8888\n",
            "2   3      sam   36    7777\n",
            "3   4  bhaskar   47    6666\n",
            "4   5   chaman   58    5555\n"
          ]
        }
      ]
    },
    {
      "cell_type": "code",
      "metadata": {
        "colab": {
          "base_uri": "https://localhost:8080/"
        },
        "id": "g53N3c6hp3cC",
        "outputId": "67dec099-9900-405e-dc71-1f309c4a3c82"
      },
      "source": [
        "list(filter(lambda x:x>18, df['age']))"
      ],
      "execution_count": 17,
      "outputs": [
        {
          "output_type": "execute_result",
          "data": {
            "text/plain": [
              "[25, 36, 47, 58]"
            ]
          },
          "metadata": {},
          "execution_count": 17
        }
      ]
    },
    {
      "cell_type": "code",
      "metadata": {
        "colab": {
          "base_uri": "https://localhost:8080/"
        },
        "id": "8BJ50mgsp4wq",
        "outputId": "75e9dfaf-2f3f-440d-ec11-d4a54194aad4"
      },
      "source": [
        "df['income']=list(map(lambda x: int(x+x*0.2), df['income']))\n",
        "print(df)"
      ],
      "execution_count": 18,
      "outputs": [
        {
          "output_type": "stream",
          "name": "stdout",
          "text": [
            "   id     name  age  income\n",
            "0   1     aman   14   11998\n",
            "1   2  Pushkar   25   10665\n",
            "2   3      sam   36    9332\n",
            "3   4  bhaskar   47    7999\n",
            "4   5   chaman   58    6666\n"
          ]
        }
      ]
    },
    {
      "cell_type": "code",
      "metadata": {
        "colab": {
          "base_uri": "https://localhost:8080/"
        },
        "id": "n5rMtLhWp6m7",
        "outputId": "f3373e8c-e086-49f0-c049-0be900d6c8e3"
      },
      "source": [
        "import functools\n",
        "\n",
        "functools.reduce(lambda a,b: a+b, df['income'])"
      ],
      "execution_count": 19,
      "outputs": [
        {
          "output_type": "execute_result",
          "data": {
            "text/plain": [
              "46660"
            ]
          },
          "metadata": {},
          "execution_count": 19
        }
      ]
    },
    {
      "cell_type": "code",
      "metadata": {
        "colab": {
          "base_uri": "https://localhost:8080/"
        },
        "id": "57BYWlFkp8Ot",
        "outputId": "8d229f95-9667-40fd-a521-cdb503878709"
      },
      "source": [
        "df['category']=df['age'].apply(lambda x: 'Adult' if x>=18 else 'Child')\n",
        "print(df)"
      ],
      "execution_count": 20,
      "outputs": [
        {
          "output_type": "stream",
          "name": "stdout",
          "text": [
            "   id     name  age  income category\n",
            "0   1     aman   14   11998    Child\n",
            "1   2  Pushkar   25   10665    Adult\n",
            "2   3      sam   36    9332    Adult\n",
            "3   4  bhaskar   47    7999    Adult\n",
            "4   5   chaman   58    6666    Adult\n"
          ]
        }
      ]
    }
  ]
}