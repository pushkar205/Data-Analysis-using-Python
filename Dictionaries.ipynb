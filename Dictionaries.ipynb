{
  "nbformat": 4,
  "nbformat_minor": 0,
  "metadata": {
    "colab": {
      "name": "Dictionaries",
      "provenance": [],
      "authorship_tag": "ABX9TyMPvaUH1QCYoj22a2rXRg08",
      "include_colab_link": true
    },
    "kernelspec": {
      "name": "python3",
      "display_name": "Python 3"
    },
    "language_info": {
      "name": "python"
    }
  },
  "cells": [
    {
      "cell_type": "markdown",
      "metadata": {
        "id": "view-in-github",
        "colab_type": "text"
      },
      "source": [
        "<a href=\"https://colab.research.google.com/github/pushkar205/Data-Analysis-using-Python/blob/main/Dictionaries.ipynb\" target=\"_parent\"><img src=\"https://colab.research.google.com/assets/colab-badge.svg\" alt=\"Open In Colab\"/></a>"
      ]
    },
    {
      "cell_type": "code",
      "metadata": {
        "id": "6a57403b",
        "colab": {
          "base_uri": "https://localhost:8080/"
        },
        "outputId": "2a34a1d0-71c2-43bf-f63e-5493db305c79"
      },
      "source": [
        "dict={'name':'pushkar','designation':'student','qual':'B.Tech','univ':'CMR', 'name':'Suman'}\n",
        "\n",
        "\n",
        "dict2={'edu':'btech-mtech','students':'7sem'}\n",
        "\n",
        "print(dict)\n",
        "print(dict2)\n",
        "\n",
        "dict.update(dict2)\n",
        "\n",
        "print(dict)"
      ],
      "execution_count": null,
      "outputs": [
        {
          "output_type": "stream",
          "name": "stdout",
          "text": [
            "{'name': 'Suman', 'designation': 'student', 'qual': 'B.Tech', 'univ': 'CMR'}\n",
            "{'edu': 'btech-mtech', 'students': '7sem'}\n",
            "{'name': 'Suman', 'designation': 'student', 'qual': 'B.Tech', 'univ': 'CMR', 'edu': 'btech-mtech', 'students': '7sem'}\n"
          ]
        }
      ]
    },
    {
      "cell_type": "code",
      "metadata": {
        "id": "243dda29",
        "colab": {
          "base_uri": "https://localhost:8080/"
        },
        "outputId": "c525caa2-6309-4a42-babb-15b3b18f63ce"
      },
      "source": [
        "dict={'name':'pushkar','designation':'student','qual':'B.Tech','univ':'CMR', 'name':'Suman'}\n",
        "\n",
        "\n",
        "dict2=dict.copy()\n",
        "\n",
        "print(dict2['name'])\n",
        "\n",
        "print(len(dict2))"
      ],
      "execution_count": null,
      "outputs": [
        {
          "output_type": "stream",
          "name": "stdout",
          "text": [
            "Suman\n",
            "4\n"
          ]
        }
      ]
    },
    {
      "cell_type": "code",
      "metadata": {
        "id": "2842e9db",
        "colab": {
          "base_uri": "https://localhost:8080/"
        },
        "outputId": "55706095-0e12-44dd-d1f2-a9b4b19d7ebb"
      },
      "source": [
        "dict={'name':'pushkar','designation':'student','qual':'B.Tech','univ':'CMR', 'name':'Suman'}\n",
        "\n",
        "\n",
        "print(dict['name'])\n",
        "\n",
        "print(dict.get('edu',\"nothing\"))\n",
        "\n",
        "\n"
      ],
      "execution_count": null,
      "outputs": [
        {
          "output_type": "stream",
          "name": "stdout",
          "text": [
            "Suman\n",
            "nothing\n"
          ]
        }
      ]
    },
    {
      "cell_type": "code",
      "metadata": {
        "id": "7a9cf5ae",
        "colab": {
          "base_uri": "https://localhost:8080/"
        },
        "outputId": "2124c9d6-7797-4b99-c5c9-653202317f92"
      },
      "source": [
        "\n",
        "\n",
        "\n",
        "print(dict.values())\n",
        "\n",
        "print(dict.items())\n",
        "\n",
        "print(dict.keys())"
      ],
      "execution_count": null,
      "outputs": [
        {
          "output_type": "stream",
          "name": "stdout",
          "text": [
            "dict_values(['Suman', 'student', 'B.Tech', 'CMR'])\n",
            "dict_items([('name', 'Suman'), ('designation', 'student'), ('qual', 'B.Tech'), ('univ', 'CMR')])\n",
            "dict_keys(['name', 'designation', 'qual', 'univ'])\n"
          ]
        }
      ]
    },
    {
      "cell_type": "code",
      "metadata": {
        "id": "a812e5e4"
      },
      "source": [
        "dict={'name':'pushkar','designation':'student','qual':'B.Tech','univ':'CMR'}\n",
        "\n",
        "\n",
        "del dict['designation']\n",
        "\n",
        "#print(dict['designation'])\n",
        "\n",
        "dict.clear()\n",
        "\n",
        "#print(dict['name'])\n",
        "\n",
        "del dict"
      ],
      "execution_count": null,
      "outputs": []
    },
    {
      "cell_type": "code",
      "metadata": {
        "id": "fd8f8734",
        "colab": {
          "base_uri": "https://localhost:8080/"
        },
        "outputId": "4511aada-2c03-40d9-ec68-f2788c85b123"
      },
      "source": [
        "dict={'name':'pushkar','designation':'srudent','qual':'B.Tech','univ':'CMR', 'name':'Suman'}\n",
        "\n",
        "\n",
        "print(dict['name'])\n",
        "\n",
        "print(len(dict))"
      ],
      "execution_count": null,
      "outputs": [
        {
          "output_type": "stream",
          "name": "stdout",
          "text": [
            "Suman\n",
            "4\n"
          ]
        }
      ]
    },
    {
      "cell_type": "code",
      "metadata": {
        "id": "dae64caa",
        "colab": {
          "base_uri": "https://localhost:8080/"
        },
        "outputId": "1f7bbd4a-6edc-489a-c364-2c177a9481a9"
      },
      "source": [
        "dict={'name':'pushkar','designation':'student','qual':'B.Tech','univ':'cmr'}\n",
        "\n",
        "dict['name']='Suman'\n",
        "\n",
        "print(dict['name'])\n",
        "\n",
        "dict['class']='CSE 7th SEM'\n",
        "\n",
        "print(dict['class'])\n",
        "\n"
      ],
      "execution_count": null,
      "outputs": [
        {
          "output_type": "stream",
          "name": "stdout",
          "text": [
            "Suman\n",
            "CSE 7th SEM\n"
          ]
        }
      ]
    },
    {
      "cell_type": "code",
      "metadata": {
        "id": "f9e29d38",
        "colab": {
          "base_uri": "https://localhost:8080/"
        },
        "outputId": "ed761ded-0487-445e-fd90-152940449cc1"
      },
      "source": [
        "dict={'name':'pushkar','designation':'Student','qual':'B.Tech','univ':'CMR'}\n",
        "print(dict['name'])\n",
        "print(dict['designation'])\n",
        "print(dict['qual'])"
      ],
      "execution_count": null,
      "outputs": [
        {
          "output_type": "stream",
          "name": "stdout",
          "text": [
            "pushkar\n",
            "Student\n",
            "B.Tech\n"
          ]
        }
      ]
    }
  ]
}