{
  "nbformat": 4,
  "nbformat_minor": 0,
  "metadata": {
    "colab": {
      "name": "Pandas Sorting",
      "provenance": [],
      "authorship_tag": "ABX9TyMK6jCUP52isMwNci/LmHGe",
      "include_colab_link": true
    },
    "kernelspec": {
      "name": "python3",
      "display_name": "Python 3"
    },
    "language_info": {
      "name": "python"
    }
  },
  "cells": [
    {
      "cell_type": "markdown",
      "metadata": {
        "id": "view-in-github",
        "colab_type": "text"
      },
      "source": [
        "<a href=\"https://colab.research.google.com/github/pushkar205/Data-Analysis-using-Python/blob/main/Pandas_Sorting.ipynb\" target=\"_parent\"><img src=\"https://colab.research.google.com/assets/colab-badge.svg\" alt=\"Open In Colab\"/></a>"
      ]
    },
    {
      "cell_type": "code",
      "metadata": {
        "colab": {
          "base_uri": "https://localhost:8080/"
        },
        "id": "ZgAmr01JjvxT",
        "outputId": "8c2410f8-c164-4ebb-955d-877dd90204f7"
      },
      "source": [
        "import pandas as pd\n",
        "import numpy as np\n",
        "\n",
        "unsorted_df=pd.DataFrame(np.random.randn(10,2),index=[1,4,6,2,3,5,9,8,0,7],columns=['col2','col1'])\n",
        "print (unsorted_df)"
      ],
      "execution_count": 1,
      "outputs": [
        {
          "output_type": "stream",
          "name": "stdout",
          "text": [
            "       col2      col1\n",
            "1  0.874806  1.138286\n",
            "4 -1.047117 -0.087168\n",
            "6  0.002161 -1.037839\n",
            "2  0.956962 -0.615132\n",
            "3 -0.870899  0.353312\n",
            "5 -0.455254 -1.045849\n",
            "9 -0.266511 -1.321502\n",
            "8 -1.875089  0.024564\n",
            "0 -0.563834  1.414344\n",
            "7  0.623753 -0.108563\n"
          ]
        }
      ]
    },
    {
      "cell_type": "code",
      "metadata": {
        "colab": {
          "base_uri": "https://localhost:8080/"
        },
        "id": "uC2ZgYMpkitK",
        "outputId": "6eb42e66-505e-4fbe-909b-d8ce06b05982"
      },
      "source": [
        "import pandas as pd\n",
        "import numpy as np\n",
        "\n",
        "unsorted_df = pd.DataFrame(np.random.randn(10,2),index=[1,4,6,2,3,5,9,8,0,7],columns = ['col2','col1'])\n",
        "\n",
        "sorted_df=unsorted_df.sort_index()\n",
        "print (sorted_df)"
      ],
      "execution_count": 2,
      "outputs": [
        {
          "output_type": "stream",
          "name": "stdout",
          "text": [
            "       col2      col1\n",
            "0  0.469312  0.835032\n",
            "1 -1.372607 -0.600987\n",
            "2 -1.755967  0.293075\n",
            "3 -1.922379 -0.764105\n",
            "4 -1.687439  0.248414\n",
            "5 -2.011932 -1.538889\n",
            "6  0.411445  0.249464\n",
            "7  1.587954 -1.524719\n",
            "8 -0.213074  0.204830\n",
            "9 -0.883790 -0.999703\n"
          ]
        }
      ]
    },
    {
      "cell_type": "code",
      "metadata": {
        "colab": {
          "base_uri": "https://localhost:8080/"
        },
        "id": "nXwEMaCLkkBr",
        "outputId": "022901fa-1677-4c40-9aff-985e9dfdfbf0"
      },
      "source": [
        "import pandas as pd\n",
        "import numpy as np\n",
        "\n",
        "unsorted_df = pd.DataFrame(np.random.randn(10,2),index=[1,4,6,2,3,5,9,8,0,7],columns = ['col2','col1'])\n",
        "\n",
        "sorted_df=unsorted_df.sort_index()\n",
        "print (sorted_df)"
      ],
      "execution_count": 3,
      "outputs": [
        {
          "output_type": "stream",
          "name": "stdout",
          "text": [
            "       col2      col1\n",
            "0  0.910353  0.408795\n",
            "1  2.631206  0.974897\n",
            "2  0.090626  0.467161\n",
            "3  0.469728  0.353142\n",
            "4  1.277974  1.292247\n",
            "5 -1.957414  1.030961\n",
            "6  3.641290 -0.574753\n",
            "7  0.479373 -0.085834\n",
            "8 -0.510726  0.552771\n",
            "9 -1.478547 -0.080722\n"
          ]
        }
      ]
    },
    {
      "cell_type": "code",
      "metadata": {
        "colab": {
          "base_uri": "https://localhost:8080/"
        },
        "id": "8EDp-g-_kmlB",
        "outputId": "94a615a7-8e61-4aa1-807c-7e1e3530a2ca"
      },
      "source": [
        "import pandas as pd\n",
        "import numpy as np\n",
        "\n",
        "unsorted_df = pd.DataFrame(np.random.randn(10,2),index=[1,4,6,2,3,5,9,8,0,7],columns = ['col2','col1'])\n",
        "\n",
        "sorted_df = unsorted_df.sort_index(ascending=False)\n",
        "print (sorted_df)"
      ],
      "execution_count": 4,
      "outputs": [
        {
          "output_type": "stream",
          "name": "stdout",
          "text": [
            "       col2      col1\n",
            "9  1.190759 -0.932749\n",
            "8 -0.666849 -1.654842\n",
            "7  0.594457 -0.154839\n",
            "6  0.012116 -0.854626\n",
            "5 -0.780678  1.318142\n",
            "4 -0.045782 -0.098360\n",
            "3 -1.907448  0.789067\n",
            "2  1.613387  0.361007\n",
            "1 -1.352462 -2.595499\n",
            "0 -0.233026  1.060367\n"
          ]
        }
      ]
    },
    {
      "cell_type": "code",
      "metadata": {
        "colab": {
          "base_uri": "https://localhost:8080/"
        },
        "id": "55AEKA3mkoAR",
        "outputId": "1c8e88cf-b6b8-47ad-c891-0a8d03be51a3"
      },
      "source": [
        "import pandas as pd\n",
        "import numpy as np\n",
        " \n",
        "unsorted_df = pd.DataFrame(np.random.randn(10,2),index=[1,4,6,2,3,5,9,8,0,7],columns = ['col2','col1'])\n",
        " \n",
        "sorted_df=unsorted_df.sort_index(axis=1)\n",
        "\n",
        "print (sorted_df)"
      ],
      "execution_count": 5,
      "outputs": [
        {
          "output_type": "stream",
          "name": "stdout",
          "text": [
            "       col1      col2\n",
            "1 -0.802690 -0.586717\n",
            "4 -0.001550  0.558812\n",
            "6 -0.599945 -0.993299\n",
            "2  0.494504  0.628152\n",
            "3 -1.233255 -0.030079\n",
            "5 -0.370301  0.363950\n",
            "9 -0.108911 -0.161280\n",
            "8 -0.084031 -0.419475\n",
            "0 -0.806324  0.341135\n",
            "7 -0.439618 -1.250675\n"
          ]
        }
      ]
    },
    {
      "cell_type": "code",
      "metadata": {
        "colab": {
          "base_uri": "https://localhost:8080/"
        },
        "id": "RXu-PQM4kpdy",
        "outputId": "ce42cde1-932b-49e9-c250-dfb62f03f642"
      },
      "source": [
        "import pandas as pd\n",
        "import numpy as np\n",
        "\n",
        "unsorted_df = pd.DataFrame({'col1':[1,2,1,1],'col2':[1,3,2,4]})\n",
        "sorted_df = unsorted_df.sort_values(by='col1')\n",
        "\n",
        "print (sorted_df)"
      ],
      "execution_count": 6,
      "outputs": [
        {
          "output_type": "stream",
          "name": "stdout",
          "text": [
            "   col1  col2\n",
            "0     1     1\n",
            "2     1     2\n",
            "3     1     4\n",
            "1     2     3\n"
          ]
        }
      ]
    },
    {
      "cell_type": "code",
      "metadata": {
        "colab": {
          "base_uri": "https://localhost:8080/"
        },
        "id": "YZRkIE2qkq50",
        "outputId": "9284979c-8ef5-4ef6-f654-1a4fe78cfb29"
      },
      "source": [
        "import pandas as pd\n",
        "import numpy as np\n",
        "\n",
        "unsorted_df = pd.DataFrame({'col1':[2,1,1,1],'col2':[1,3,2,4]})\n",
        "sorted_df = unsorted_df.sort_values(by=['col1','col2'])\n",
        "\n",
        "print (sorted_df)"
      ],
      "execution_count": 7,
      "outputs": [
        {
          "output_type": "stream",
          "name": "stdout",
          "text": [
            "   col1  col2\n",
            "2     1     2\n",
            "1     1     3\n",
            "3     1     4\n",
            "0     2     1\n"
          ]
        }
      ]
    },
    {
      "cell_type": "code",
      "metadata": {
        "colab": {
          "base_uri": "https://localhost:8080/"
        },
        "id": "GeeIijRFksXj",
        "outputId": "00c89621-4973-4b4c-898f-ee5c2290cbb6"
      },
      "source": [
        "import pandas as pd\n",
        "import numpy as np\n",
        "\n",
        "unsorted_df = pd.DataFrame({'col1':[1,2,1,1],'col2':[1,3,2,4]})\n",
        "sorted_df = unsorted_df.sort_values(by='col1' ,kind='mergesort')\n",
        "\n",
        "print (sorted_df)"
      ],
      "execution_count": 8,
      "outputs": [
        {
          "output_type": "stream",
          "name": "stdout",
          "text": [
            "   col1  col2\n",
            "0     1     1\n",
            "2     1     2\n",
            "3     1     4\n",
            "1     2     3\n"
          ]
        }
      ]
    }
  ]
}