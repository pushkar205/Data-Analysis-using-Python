{
  "nbformat": 4,
  "nbformat_minor": 0,
  "metadata": {
    "colab": {
      "name": "Functions",
      "provenance": [],
      "authorship_tag": "ABX9TyOKByMY4LrbpmNJDZIXY6d6",
      "include_colab_link": true
    },
    "kernelspec": {
      "name": "python3",
      "display_name": "Python 3"
    },
    "language_info": {
      "name": "python"
    }
  },
  "cells": [
    {
      "cell_type": "markdown",
      "metadata": {
        "id": "view-in-github",
        "colab_type": "text"
      },
      "source": [
        "<a href=\"https://colab.research.google.com/github/pushkar205/Data-Analysis-using-Python/blob/main/Functions.ipynb\" target=\"_parent\"><img src=\"https://colab.research.google.com/assets/colab-badge.svg\" alt=\"Open In Colab\"/></a>"
      ]
    },
    {
      "cell_type": "code",
      "metadata": {
        "id": "610c6d6a",
        "colab": {
          "base_uri": "https://localhost:8080/"
        },
        "outputId": "129125e5-470f-4a5d-91bd-706c670f81aa"
      },
      "source": [
        "\n",
        "def hello (str):\n",
        "     print(\"in function   \" + str)\n",
        "     print(\"after printing in function definition\")\n",
        "     return;\n",
        "    \n",
        "    \n",
        "print(\"1\")\n",
        "print(\"2\")\n",
        "hello(\"PUSHKAR\")\n",
        "hello(\"SUMAN\")\n",
        "print(\"3\")\n",
        "    \n",
        "\n"
      ],
      "execution_count": 1,
      "outputs": [
        {
          "output_type": "stream",
          "name": "stdout",
          "text": [
            "1\n",
            "2\n",
            "in function   PUSHKAR\n",
            "after printing in function definition\n",
            "in function   SUMAN\n",
            "after printing in function definition\n",
            "3\n"
          ]
        }
      ]
    },
    {
      "cell_type": "code",
      "metadata": {
        "id": "fb2145fc",
        "colab": {
          "base_uri": "https://localhost:8080/"
        },
        "outputId": "0665a0e7-e871-4a96-8e17-f69e48f6d650"
      },
      "source": [
        "def changeme( mylist ):\n",
        "   mylist.append([1,2,3,4]);\n",
        "   print (\"Values inside the function: \", mylist)\n",
        "   return;\n",
        "\n",
        "mylist = [10,20,30];\n",
        "changeme( mylist );\n",
        "print (\"Values outside the function: \", mylist)\n"
      ],
      "execution_count": 2,
      "outputs": [
        {
          "output_type": "stream",
          "name": "stdout",
          "text": [
            "Values inside the function:  [10, 20, 30, [1, 2, 3, 4]]\n",
            "Values outside the function:  [10, 20, 30, [1, 2, 3, 4]]\n"
          ]
        }
      ]
    },
    {
      "cell_type": "code",
      "metadata": {
        "id": "78748955",
        "colab": {
          "base_uri": "https://localhost:8080/"
        },
        "outputId": "81488743-a2a1-461f-875a-298d6f3d9452"
      },
      "source": [
        "def changeme( mylist ):\n",
        "    print (\"BEFORE CHANGESValues inside the function: \", mylist)\n",
        "    mylist = [1,2,3,4]; \n",
        "    print (\"AFTER CHANGES Values inside the function: \", mylist)\n",
        "    return\n",
        "\n",
        "\n",
        "mylist1 = [10,20,30];\n",
        "changeme( mylist1 );\n",
        "print (\"Values outside the function: \", mylist1)"
      ],
      "execution_count": 3,
      "outputs": [
        {
          "output_type": "stream",
          "name": "stdout",
          "text": [
            "BEFORE CHANGESValues inside the function:  [10, 20, 30]\n",
            "AFTER CHANGES Values inside the function:  [1, 2, 3, 4]\n",
            "Values outside the function:  [10, 20, 30]\n"
          ]
        }
      ]
    },
    {
      "cell_type": "code",
      "metadata": {
        "id": "4ce4e4e3",
        "colab": {
          "base_uri": "https://localhost:8080/",
          "height": 202
        },
        "outputId": "d8208d89-875f-49fb-8911-aa520a1f2c2e"
      },
      "source": [
        "def printme( str ):\n",
        "     print (str)\n",
        "     return;\n",
        "\n",
        "\n",
        "printme()"
      ],
      "execution_count": 4,
      "outputs": [
        {
          "output_type": "error",
          "ename": "TypeError",
          "evalue": "ignored",
          "traceback": [
            "\u001b[0;31m---------------------------------------------------------------------------\u001b[0m",
            "\u001b[0;31mTypeError\u001b[0m                                 Traceback (most recent call last)",
            "\u001b[0;32m<ipython-input-4-4e1f21ca7b12>\u001b[0m in \u001b[0;36m<module>\u001b[0;34m()\u001b[0m\n\u001b[1;32m      4\u001b[0m \u001b[0;34m\u001b[0m\u001b[0m\n\u001b[1;32m      5\u001b[0m \u001b[0;34m\u001b[0m\u001b[0m\n\u001b[0;32m----> 6\u001b[0;31m \u001b[0mprintme\u001b[0m\u001b[0;34m(\u001b[0m\u001b[0;34m)\u001b[0m\u001b[0;34m\u001b[0m\u001b[0;34m\u001b[0m\u001b[0m\n\u001b[0m",
            "\u001b[0;31mTypeError\u001b[0m: printme() missing 1 required positional argument: 'str'"
          ]
        }
      ]
    },
    {
      "cell_type": "code",
      "metadata": {
        "scrolled": true,
        "id": "3fd7b07c",
        "colab": {
          "base_uri": "https://localhost:8080/"
        },
        "outputId": "1c97ace3-6893-485d-92aa-559bb3b0c430"
      },
      "source": [
        "def printme( str ):\n",
        "     print (str)\n",
        "     return;\n",
        "\n",
        "\n",
        "printme( str = \"My string\")"
      ],
      "execution_count": 5,
      "outputs": [
        {
          "output_type": "stream",
          "name": "stdout",
          "text": [
            "My string\n"
          ]
        }
      ]
    },
    {
      "cell_type": "code",
      "metadata": {
        "id": "4f1aa13a",
        "colab": {
          "base_uri": "https://localhost:8080/"
        },
        "outputId": "ec803360-0db5-422a-b9d2-f905f4b1a707"
      },
      "source": [
        "def printinfo( name, age ):\n",
        "    print (\"Name: \", name)\n",
        "    print (\"Age \", age)\n",
        "    return;\n",
        "\n",
        "\n",
        "printinfo( age=21, name=\"pushkar\" )"
      ],
      "execution_count": 6,
      "outputs": [
        {
          "output_type": "stream",
          "name": "stdout",
          "text": [
            "Name:  pushkar\n",
            "Age  21\n"
          ]
        }
      ]
    },
    {
      "cell_type": "code",
      "metadata": {
        "id": "31440757",
        "colab": {
          "base_uri": "https://localhost:8080/"
        },
        "outputId": "a09b5c28-b0ce-4ee0-e688-7fc19ea3f569"
      },
      "source": [
        "def printinfo( name, age ):\n",
        "    print (\"Name: \", name)\n",
        "    print (\"Age \", age)\n",
        "    return;\n",
        "\n",
        "printinfo( \"pushkar\",21 )"
      ],
      "execution_count": 7,
      "outputs": [
        {
          "output_type": "stream",
          "name": "stdout",
          "text": [
            "Name:  pushkar\n",
            "Age  21\n"
          ]
        }
      ]
    },
    {
      "cell_type": "code",
      "metadata": {
        "id": "686dee84",
        "colab": {
          "base_uri": "https://localhost:8080/"
        },
        "outputId": "d168d167-ad19-49b3-d0c6-128d08326a69"
      },
      "source": [
        "def printinfo( name, age ):\n",
        "    print (\"Name: \", name)\n",
        "    print (\"Age \", age)\n",
        "    return;\n",
        "\n",
        "printinfo( 21, \"pushkar\" )"
      ],
      "execution_count": 8,
      "outputs": [
        {
          "output_type": "stream",
          "name": "stdout",
          "text": [
            "Name:  21\n",
            "Age  pushkar\n"
          ]
        }
      ]
    },
    {
      "cell_type": "code",
      "metadata": {
        "id": "2e9d9fe4",
        "colab": {
          "base_uri": "https://localhost:8080/"
        },
        "outputId": "abe0b51b-26fa-4e4b-c7e5-94905ba5e75e"
      },
      "source": [
        "def printinfo( name, age = 22 ):\n",
        "    print (\"Name: \", name)\n",
        "    print (\"Age \", age)\n",
        "    return;\n",
        "\n",
        "\n",
        "printinfo( age=21, name=\"pushkar\" )\n",
        "printinfo( name=\"pushkar\" )"
      ],
      "execution_count": 11,
      "outputs": [
        {
          "output_type": "stream",
          "name": "stdout",
          "text": [
            "Name:  pushkar\n",
            "Age  21\n",
            "Name:  pushkar\n",
            "Age  22\n"
          ]
        }
      ]
    },
    {
      "cell_type": "code",
      "metadata": {
        "id": "1897fba0",
        "colab": {
          "base_uri": "https://localhost:8080/"
        },
        "outputId": "0a1ba441-ec4e-4f20-af7e-8321c2dda4ac"
      },
      "source": [
        "def printinfo( arg1, *vartuple ):\n",
        "     print (\"Output is: \")\n",
        "     print (\"arg1==\",arg1)\n",
        "     for var in vartuple:\n",
        "        print (var)\n",
        "     return;\n",
        "\n",
        "printinfo( 10,78 )\n",
        "printinfo( 70, 60, 50,90 )"
      ],
      "execution_count": 10,
      "outputs": [
        {
          "output_type": "stream",
          "name": "stdout",
          "text": [
            "Output is: \n",
            "arg1== 10\n",
            "78\n",
            "Output is: \n",
            "arg1== 70\n",
            "60\n",
            "50\n",
            "90\n"
          ]
        }
      ]
    },
    {
      "cell_type": "code",
      "metadata": {
        "id": "55739efd",
        "colab": {
          "base_uri": "https://localhost:8080/"
        },
        "outputId": "5ab1a520-8f64-4584-d16a-b4a74e44cc73"
      },
      "source": [
        "sum = lambda arg1, arg2: arg1 + arg2;\n",
        "\n",
        "print (\"Value of total : \", sum( 10, 20 ))\n",
        "print (\"Value of total : \", sum( 20, 20 ))"
      ],
      "execution_count": 12,
      "outputs": [
        {
          "output_type": "stream",
          "name": "stdout",
          "text": [
            "Value of total :  30\n",
            "Value of total :  40\n"
          ]
        }
      ]
    },
    {
      "cell_type": "code",
      "metadata": {
        "id": "b5e22453",
        "colab": {
          "base_uri": "https://localhost:8080/"
        },
        "outputId": "db5e4be7-ff54-4b34-a3b6-89bc3212b339"
      },
      "source": [
        "def sum( arg1, arg2 ):\n",
        "    total = arg1 + arg2\n",
        "    print (\"Inside the function : \", total)\n",
        "    return total;\n",
        "\n",
        "\n",
        "total1 = sum( 10, 20 );\n",
        "print (\"Outside the function : \", total1 )"
      ],
      "execution_count": 15,
      "outputs": [
        {
          "output_type": "stream",
          "name": "stdout",
          "text": [
            "Inside the function :  30\n",
            "Outside the function :  30\n"
          ]
        }
      ]
    },
    {
      "cell_type": "code",
      "metadata": {
        "id": "97396c41",
        "colab": {
          "base_uri": "https://localhost:8080/"
        },
        "outputId": "c9e3887b-f53e-44c1-d6d0-d037f11d382c"
      },
      "source": [
        "total = 99; \n",
        "\n",
        "def sum( arg1, arg2 ):\n",
        "    total = arg1 + arg2; \n",
        "    print (\"Inside the function local total : \", total)\n",
        "    return total;\n",
        "\n",
        "\n",
        "sum( 10, 20 );\n",
        "print (\"Outside the function global total : \", total )"
      ],
      "execution_count": 14,
      "outputs": [
        {
          "output_type": "stream",
          "name": "stdout",
          "text": [
            "Inside the function local total :  30\n",
            "Outside the function global total :  99\n"
          ]
        }
      ]
    }
  ]
}