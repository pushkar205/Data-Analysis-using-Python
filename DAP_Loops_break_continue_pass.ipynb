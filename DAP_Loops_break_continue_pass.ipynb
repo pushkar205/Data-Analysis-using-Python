{
  "nbformat": 4,
  "nbformat_minor": 0,
  "metadata": {
    "colab": {
      "name": "DAP Loops-break-continue-pass ",
      "provenance": [],
      "authorship_tag": "ABX9TyPQyRzNqyjOcHpzZb14ESek",
      "include_colab_link": true
    },
    "kernelspec": {
      "name": "python3",
      "display_name": "Python 3"
    },
    "language_info": {
      "name": "python"
    }
  },
  "cells": [
    {
      "cell_type": "markdown",
      "metadata": {
        "id": "view-in-github",
        "colab_type": "text"
      },
      "source": [
        "<a href=\"https://colab.research.google.com/github/pushkar205/Data-Analysis-using-Python/blob/main/DAP_Loops_break_continue_pass.ipynb\" target=\"_parent\"><img src=\"https://colab.research.google.com/assets/colab-badge.svg\" alt=\"Open In Colab\"/></a>"
      ]
    },
    {
      "cell_type": "code",
      "metadata": {
        "id": "MoMzvRCAWU9f",
        "colab": {
          "base_uri": "https://localhost:8080/"
        },
        "outputId": "5a28d915-b632-49ab-d398-71b5c7bbf36d"
      },
      "source": [
        "    str = \"Python\"  \n",
        "    for i in str:  \n",
        "        print(i)  "
      ],
      "execution_count": 20,
      "outputs": [
        {
          "output_type": "stream",
          "name": "stdout",
          "text": [
            "P\n",
            "y\n",
            "t\n",
            "h\n",
            "o\n",
            "n\n"
          ]
        }
      ]
    },
    {
      "cell_type": "code",
      "metadata": {
        "id": "Wk6oyWr_WW8c",
        "colab": {
          "base_uri": "https://localhost:8080/"
        },
        "outputId": "dc719827-0eee-48de-f80d-18f9b4a3b675"
      },
      "source": [
        "    list = [1,2,3,4,5,6,7,8,9,10]  \n",
        "    n = 6 \n",
        "    for i in list:  \n",
        "        c = n*i  \n",
        "        print(n,\" *\",i, \" =\", c)  "
      ],
      "execution_count": 21,
      "outputs": [
        {
          "output_type": "stream",
          "name": "stdout",
          "text": [
            "6  * 1  = 6\n",
            "6  * 2  = 12\n",
            "6  * 3  = 18\n",
            "6  * 4  = 24\n",
            "6  * 5  = 30\n",
            "6  * 6  = 36\n",
            "6  * 7  = 42\n",
            "6  * 8  = 48\n",
            "6  * 9  = 54\n",
            "6  * 10  = 60\n"
          ]
        }
      ]
    },
    {
      "cell_type": "code",
      "metadata": {
        "id": "2ItfbRW9WZBn",
        "colab": {
          "base_uri": "https://localhost:8080/"
        },
        "outputId": "4bf4d1cb-9052-4c3f-d64c-dcfd824e3858"
      },
      "source": [
        "    list = [10,30,23,43,55,12]  \n",
        "    sum = 0  \n",
        "    for i in list:  \n",
        "        sum = sum+i  \n",
        "    print(\"The sum is:\",sum)  "
      ],
      "execution_count": 22,
      "outputs": [
        {
          "output_type": "stream",
          "name": "stdout",
          "text": [
            "The sum is: 173\n"
          ]
        }
      ]
    },
    {
      "cell_type": "code",
      "metadata": {
        "id": "HDtX_ebuWa_8",
        "colab": {
          "base_uri": "https://localhost:8080/"
        },
        "outputId": "6770f71c-3234-44a6-c4af-9e91338e34a7"
      },
      "source": [
        "    for i in range(14):  \n",
        "        print(i,end=' ')  "
      ],
      "execution_count": 23,
      "outputs": [
        {
          "output_type": "stream",
          "name": "stdout",
          "text": [
            "0 1 2 3 4 5 6 7 8 9 10 11 12 13 "
          ]
        }
      ]
    },
    {
      "cell_type": "code",
      "metadata": {
        "id": "j_TwnDcTWdBU"
      },
      "source": [
        "    n = int(input(\"Enter the number \"))  \n",
        "    for i in range(1,11):  \n",
        "        c = n*i  \n",
        "        print(n,\"*\",i,\"=\",c)  "
      ],
      "execution_count": null,
      "outputs": []
    },
    {
      "cell_type": "code",
      "metadata": {
        "id": "vez0xX_eWmVs"
      },
      "source": [
        "    n = int(input(\"Enter the number \"))  \n",
        "    for i in range(2,n,2):  \n",
        "        print(i)  "
      ],
      "execution_count": null,
      "outputs": []
    },
    {
      "cell_type": "code",
      "metadata": {
        "id": "BWs1XvrPWoVv"
      },
      "source": [
        "    list = ['Pushkar','Shubham','Ram','Dev']  \n",
        "    for i in range(len(list)):  \n",
        "        print(\"Hello\",list[i])  "
      ],
      "execution_count": null,
      "outputs": []
    },
    {
      "cell_type": "code",
      "metadata": {
        "id": "ZhABFaChWpvO"
      },
      "source": [
        "    for i in range(0,7):    \n",
        "        print(i)    \n",
        "    else:  \n",
        "        print(\"for loop completely exhausted, since there is no break.\")  "
      ],
      "execution_count": null,
      "outputs": []
    },
    {
      "cell_type": "code",
      "metadata": {
        "id": "qMZ0ffEsWrKG"
      },
      "source": [
        "    for i in range(0,7):    \n",
        "        print(i)    \n",
        "        print(\"bye\")\n",
        "        continue;    \n",
        "        print(\"hello\")\n",
        "    else:print(\"for loop is exhausted\");    \n",
        "    print(\"The loop is broken due to break statement...came out of the loop\")    "
      ],
      "execution_count": null,
      "outputs": []
    },
    {
      "cell_type": "code",
      "metadata": {
        "id": "jxT4_WcLWsgY"
      },
      "source": [
        "i = 0  \n",
        "str1 = 'pushkar'  \n",
        "  \n",
        "while i < len(str1):   \n",
        "    if str1[i] == 'n':   \n",
        "        i += 1  \n",
        "        break  \n",
        "    print('Current Letter :', str1[i])   \n",
        "    i += 1  "
      ],
      "execution_count": null,
      "outputs": []
    },
    {
      "cell_type": "code",
      "metadata": {
        "id": "t-wEYFp-WuDe"
      },
      "source": [
        "#The pass statement is used to declare the empty loop. \n",
        "#It is also used to define empty class, function, and control statement.\n",
        "\n",
        "str1 = 'pushkar'  \n",
        "i = 0  \n",
        "  \n",
        "while i < len(str1):   \n",
        "    i += 1  \n",
        "    pass  \n",
        "print('Value of i :', i)  "
      ],
      "execution_count": null,
      "outputs": []
    },
    {
      "cell_type": "code",
      "metadata": {
        "id": "4N054MI7WvcN"
      },
      "source": [
        "    i=1  \n",
        "    #The while loop will iterate until condition becomes false.  \n",
        "    while(i<=10):    \n",
        "        print(i)   \n",
        "        i=i+1   "
      ],
      "execution_count": null,
      "outputs": []
    },
    {
      "cell_type": "code",
      "metadata": {
        "id": "viun0RT_Wxsd"
      },
      "source": [
        "    i=1    \n",
        "    number = int(input(\"Enter the number:\"))    \n",
        "    while i<=10:    \n",
        "        print(\"%d X %d = %d \\n\"%(number,i,number*i))    \n",
        "        i = i+1    "
      ],
      "execution_count": null,
      "outputs": []
    },
    {
      "cell_type": "code",
      "metadata": {
        "id": "esuOJJwsWzjd"
      },
      "source": [
        "while (0):    \n",
        "    print(\"Hi! we are inside the infinite while loop\") "
      ],
      "execution_count": null,
      "outputs": []
    },
    {
      "cell_type": "code",
      "metadata": {
        "id": "cEzI0g4BW0y9"
      },
      "source": [
        "    var =    \n",
        "    while(var != 2):    \n",
        "        i = int(input(\"Enter the number:\"))    \n",
        "        print(\"Entered value is %d\"%(i))  \n"
      ],
      "execution_count": null,
      "outputs": []
    },
    {
      "cell_type": "code",
      "metadata": {
        "id": "0tqS1nE2W2gI"
      },
      "source": [
        "i=1   \n",
        "while(i<=5):    \n",
        "    print(i)    \n",
        "    i=i+1    \n",
        "else:  \n",
        "    print(\"The while loop exhausted\")"
      ],
      "execution_count": null,
      "outputs": []
    },
    {
      "cell_type": "code",
      "metadata": {
        "id": "57Xu7maMW30-"
      },
      "source": [
        "i=1    \n",
        "while(i<=5):    \n",
        "    print(i)    \n",
        "    i=i+1    \n",
        "    if(i==3):    \n",
        "        break   \n",
        "else:  \n",
        "    print(\"The while loop exhausted\")\n",
        "print(\"bye bye\")\n",
        "    "
      ],
      "execution_count": null,
      "outputs": []
    },
    {
      "cell_type": "code",
      "metadata": {
        "id": "H7LZaTRcW5HX"
      },
      "source": [
        "    list =[1,2,3,4]  \n",
        "    i=1;\n",
        "    count = 1;  \n",
        "    for i in list:  \n",
        "        if i == 4:  \n",
        "            print(\"item matched\")  \n",
        "            count = count + 1;  \n",
        "            break  \n",
        "    print(\"found at\",count,\"location\");  "
      ],
      "execution_count": null,
      "outputs": []
    },
    {
      "cell_type": "code",
      "metadata": {
        "id": "OZ4ptFtQW6lK"
      },
      "source": [
        "    str = \"python\"  \n",
        "    for i in str:  \n",
        "        if i == 'o':  \n",
        "            break  \n",
        "        print(i);  "
      ],
      "execution_count": null,
      "outputs": []
    },
    {
      "cell_type": "code",
      "metadata": {
        "id": "Didln-iEW7zb"
      },
      "source": [
        "    n=2  \n",
        "    while 1:  \n",
        "        i=1;  \n",
        "        while i<=10:  \n",
        "            print(\"%d X %d = %d\\n\"%(n,i,n*i));  \n",
        "            i = i+1;  \n",
        "        choice = int(input(\"Do you want to continue printing the table, press 0 for no?\"))  \n",
        "        if choice == 0:  \n",
        "            break;      \n",
        "        n=n+1  "
      ],
      "execution_count": null,
      "outputs": []
    },
    {
      "cell_type": "code",
      "metadata": {
        "id": "KW54Dp7VW9Gd"
      },
      "source": [
        "    i = 0                     \n",
        "    while(i < 10):                \n",
        "       i = i+1  \n",
        "       if(i == 5):  \n",
        "          continue  \n",
        "       print(i)  "
      ],
      "execution_count": null,
      "outputs": []
    },
    {
      "cell_type": "code",
      "metadata": {
        "id": "_LgCWpiaW9Qt"
      },
      "source": [
        "    str = \"Pushkar\"  \n",
        "    for i in str:  \n",
        "        if(i == 'n'):  \n",
        "            continue  \n",
        "        print(i)  "
      ],
      "execution_count": null,
      "outputs": []
    },
    {
      "cell_type": "code",
      "metadata": {
        "id": "MifsDbg_XBPn"
      },
      "source": [
        "    list = [1,2,3,4,5]    \n",
        "    flag = 0    \n",
        "    for i in list:    \n",
        "        print(\"Current element:\",i,end=\" \");    \n",
        "        if i==3:    \n",
        "            pass    \n",
        "            print(\"\\nWe are inside pass block\\n\");    \n",
        "            flag = 1    \n",
        "        if flag==1:    \n",
        "            print(\"\\nCame out of pass\\n\");    \n",
        "            flag=0   "
      ],
      "execution_count": null,
      "outputs": []
    },
    {
      "cell_type": "code",
      "metadata": {
        "id": "SyknE2GvXCpd"
      },
      "source": [
        "values = {'P', 'y', 't', 'h','o','n'}  \n",
        "for val in values:  \n",
        "    pass  "
      ],
      "execution_count": null,
      "outputs": []
    },
    {
      "cell_type": "code",
      "metadata": {
        "id": "ROgtih8SXD_u"
      },
      "source": [
        "    for i in [1,2,3,4,5]:   \n",
        "        if(i==4):  \n",
        "            pass  \n",
        "            print(\"This is pass block\",i)  \n",
        "        print(i)  "
      ],
      "execution_count": null,
      "outputs": []
    }
  ]
}