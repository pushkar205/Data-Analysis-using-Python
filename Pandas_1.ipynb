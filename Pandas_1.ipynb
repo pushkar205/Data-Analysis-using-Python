{
  "nbformat": 4,
  "nbformat_minor": 0,
  "metadata": {
    "colab": {
      "name": "Pandas-1",
      "provenance": [],
      "authorship_tag": "ABX9TyNiADBqBuJVjQFsTSkQjXzs",
      "include_colab_link": true
    },
    "kernelspec": {
      "name": "python3",
      "display_name": "Python 3"
    },
    "language_info": {
      "name": "python"
    }
  },
  "cells": [
    {
      "cell_type": "markdown",
      "metadata": {
        "id": "view-in-github",
        "colab_type": "text"
      },
      "source": [
        "<a href=\"https://colab.research.google.com/github/pushkar205/Data-Analysis-using-Python/blob/main/Pandas_1.ipynb\" target=\"_parent\"><img src=\"https://colab.research.google.com/assets/colab-badge.svg\" alt=\"Open In Colab\"/></a>"
      ]
    },
    {
      "cell_type": "code",
      "metadata": {
        "colab": {
          "base_uri": "https://localhost:8080/"
        },
        "id": "a9xkxbYgr9kE",
        "outputId": "19f899f3-ecf9-4dce-b28b-d0aa628361ef"
      },
      "source": [
        "import pandas as pd\n",
        "import numpy as np\n",
        "\n",
        "#Create a series with 100 random numbers\n",
        "s = pd.Series(np.random.randn(4))\n",
        "print (s)"
      ],
      "execution_count": 1,
      "outputs": [
        {
          "output_type": "stream",
          "name": "stdout",
          "text": [
            "0   -0.472254\n",
            "1    0.836328\n",
            "2    0.360470\n",
            "3   -0.432974\n",
            "dtype: float64\n"
          ]
        }
      ]
    },
    {
      "cell_type": "code",
      "metadata": {
        "colab": {
          "base_uri": "https://localhost:8080/"
        },
        "id": "CPxUXanHsBgn",
        "outputId": "7160f752-c3f8-4627-8073-058f5b867fa4"
      },
      "source": [
        "import pandas as pd\n",
        "import numpy as np\n",
        "\n",
        "#Create a series with 100 random numbers\n",
        "s = pd.Series(np.random.randn(4))\n",
        "print (\"The axes are:\")\n",
        "print (s.axes)"
      ],
      "execution_count": 2,
      "outputs": [
        {
          "output_type": "stream",
          "name": "stdout",
          "text": [
            "The axes are:\n",
            "[RangeIndex(start=0, stop=4, step=1)]\n"
          ]
        }
      ]
    },
    {
      "cell_type": "code",
      "metadata": {
        "colab": {
          "base_uri": "https://localhost:8080/"
        },
        "id": "vQ4iotldsCmB",
        "outputId": "e4d800d9-a3d6-492c-c606-68af5079552e"
      },
      "source": [
        "import pandas as pd\n",
        "import numpy as np\n",
        "\n",
        "#Create a series with 100 random numbers\n",
        "s = pd.Series(np.random.randn(4))\n",
        "print (\"Is the Object empty?\")\n",
        "print (s.empty)"
      ],
      "execution_count": 3,
      "outputs": [
        {
          "output_type": "stream",
          "name": "stdout",
          "text": [
            "Is the Object empty?\n",
            "False\n"
          ]
        }
      ]
    },
    {
      "cell_type": "code",
      "metadata": {
        "colab": {
          "base_uri": "https://localhost:8080/"
        },
        "id": "tYf5yDuAsDqq",
        "outputId": "97ca65b9-4f99-4ae4-be10-9f3feb5ebda5"
      },
      "source": [
        "import pandas as pd\n",
        "import numpy as np\n",
        "\n",
        "#Create a series with 4 random numbers\n",
        "s = pd.Series(np.random.randn(4))\n",
        "print (s)\n",
        "\n",
        "print (\"The dimensions of the object:\")\n",
        "print (s.ndim)"
      ],
      "execution_count": 4,
      "outputs": [
        {
          "output_type": "stream",
          "name": "stdout",
          "text": [
            "0   -0.001170\n",
            "1   -0.753865\n",
            "2   -0.356673\n",
            "3    0.742483\n",
            "dtype: float64\n",
            "The dimensions of the object:\n",
            "1\n"
          ]
        }
      ]
    },
    {
      "cell_type": "code",
      "metadata": {
        "colab": {
          "base_uri": "https://localhost:8080/"
        },
        "id": "f-sJFL8HsE7U",
        "outputId": "22d92ba2-4d9f-4c4e-9942-9b7d3159e6d3"
      },
      "source": [
        "import pandas as pd\n",
        "import numpy as np\n",
        "\n",
        "#Create a series with 4 random numbers\n",
        "s = pd.Series(np.random.randn(2))\n",
        "print (s)\n",
        "print (\"The size of the object:\")\n",
        "print (s.size)"
      ],
      "execution_count": 5,
      "outputs": [
        {
          "output_type": "stream",
          "name": "stdout",
          "text": [
            "0   -0.168208\n",
            "1   -0.356538\n",
            "dtype: float64\n",
            "The size of the object:\n",
            "2\n"
          ]
        }
      ]
    },
    {
      "cell_type": "code",
      "metadata": {
        "colab": {
          "base_uri": "https://localhost:8080/"
        },
        "id": "2ZRzW7kpsF9S",
        "outputId": "719ed77d-2180-4deb-a675-cdfc4b1d905d"
      },
      "source": [
        "import pandas as pd\n",
        "import numpy as np\n",
        "\n",
        "#Create a series with 4 random numbers\n",
        "s = pd.Series(np.random.randn(4))\n",
        "print (s)\n",
        "\n",
        "print (\"The actual data series is:\")\n",
        "print (s.values)"
      ],
      "execution_count": 6,
      "outputs": [
        {
          "output_type": "stream",
          "name": "stdout",
          "text": [
            "0    0.611177\n",
            "1    0.615958\n",
            "2   -1.685894\n",
            "3    0.037023\n",
            "dtype: float64\n",
            "The actual data series is:\n",
            "[ 0.61117664  0.61595759 -1.685894    0.03702341]\n"
          ]
        }
      ]
    },
    {
      "cell_type": "code",
      "metadata": {
        "colab": {
          "base_uri": "https://localhost:8080/"
        },
        "id": "jvjar5O6sG9C",
        "outputId": "22c698e3-f8c5-408d-811a-4f7453a40df0"
      },
      "source": [
        "import pandas as pd\n",
        "import numpy as np\n",
        "\n",
        "#Create a series with 4 random numbers\n",
        "s = pd.Series(np.random.randn(4))\n",
        "print (\"The original series is:\")\n",
        "print (s)\n",
        "\n",
        "print (\"The first two rows of the data series:\")\n",
        "print (s.head(2))"
      ],
      "execution_count": 7,
      "outputs": [
        {
          "output_type": "stream",
          "name": "stdout",
          "text": [
            "The original series is:\n",
            "0   -0.562738\n",
            "1   -0.200451\n",
            "2    1.000001\n",
            "3   -2.505142\n",
            "dtype: float64\n",
            "The first two rows of the data series:\n",
            "0   -0.562738\n",
            "1   -0.200451\n",
            "dtype: float64\n"
          ]
        }
      ]
    },
    {
      "cell_type": "code",
      "metadata": {
        "colab": {
          "base_uri": "https://localhost:8080/"
        },
        "id": "0YfFCbzLsH_S",
        "outputId": "f6475c5c-85d1-4002-b993-ea00b359a174"
      },
      "source": [
        "import pandas as pd\n",
        "import numpy as np\n",
        "\n",
        "#Create a series with 4 random numbers\n",
        "s = pd.Series(np.random.randn(4))\n",
        "print (\"The original series is:\")\n",
        "print (s)\n",
        "\n",
        "print (\"The last two rows of the data series:\")\n",
        "print (s.tail(2))"
      ],
      "execution_count": 8,
      "outputs": [
        {
          "output_type": "stream",
          "name": "stdout",
          "text": [
            "The original series is:\n",
            "0   -1.496753\n",
            "1   -0.227435\n",
            "2    1.079409\n",
            "3   -0.111147\n",
            "dtype: float64\n",
            "The last two rows of the data series:\n",
            "2    1.079409\n",
            "3   -0.111147\n",
            "dtype: float64\n"
          ]
        }
      ]
    },
    {
      "cell_type": "code",
      "metadata": {
        "colab": {
          "base_uri": "https://localhost:8080/"
        },
        "id": "UxQpCD7psJDq",
        "outputId": "5a44221b-e7f0-4267-f9e8-e1198eff6ba5"
      },
      "source": [
        "import pandas as pd\n",
        "import numpy as np\n",
        "\n",
        "#Create a Dictionary of series\n",
        "d = {'Name':pd.Series(['chiku','Jerry','Ram','Sam','Shaggy','Sumit','Pushkar']),\n",
        "   'Age':pd.Series([25,26,25,23,30,29,23]),\n",
        "   'Rating':pd.Series([4.23,3.24,3.98,2.56,3.20,4.6,3.8])}\n",
        "\n",
        "#Create a DataFrame\n",
        "df = pd.DataFrame(d)\n",
        "print (\"Our data series is:\")\n",
        "print (df)"
      ],
      "execution_count": 9,
      "outputs": [
        {
          "output_type": "stream",
          "name": "stdout",
          "text": [
            "Our data series is:\n",
            "      Name  Age  Rating\n",
            "0    chiku   25    4.23\n",
            "1    Jerry   26    3.24\n",
            "2      Ram   25    3.98\n",
            "3      Sam   23    2.56\n",
            "4   Shaggy   30    3.20\n",
            "5    Sumit   29    4.60\n",
            "6  Pushkar   23    3.80\n"
          ]
        }
      ]
    },
    {
      "cell_type": "code",
      "metadata": {
        "colab": {
          "base_uri": "https://localhost:8080/"
        },
        "id": "nxrVeLjNsKH6",
        "outputId": "2ac00881-69ee-45d8-a33e-baf39cac5c39"
      },
      "source": [
        "import pandas as pd\n",
        "import numpy as np\n",
        " \n",
        "# Create a Dictionary of series\n",
        "d = {'Name':pd.Series(['chiku','Jerry','Ram','Sam','Shaggy','Sumit','Pushkar']),\n",
        "   'Age':pd.Series([25,26,25,23,30,29,23]),\n",
        "   'Rating':pd.Series([4.23,3.24,3.98,2.56,3.20,4.6,3.8])}\n",
        "\n",
        "# Create a DataFrame\n",
        "df = pd.DataFrame(d)\n",
        "print (\"The transpose of the data series is:\")\n",
        "print (df.T)"
      ],
      "execution_count": 10,
      "outputs": [
        {
          "output_type": "stream",
          "name": "stdout",
          "text": [
            "The transpose of the data series is:\n",
            "            0      1     2     3       4      5        6\n",
            "Name    chiku  Jerry   Ram   Sam  Shaggy  Sumit  Pushkar\n",
            "Age        25     26    25    23      30     29       23\n",
            "Rating   4.23   3.24  3.98  2.56     3.2    4.6      3.8\n"
          ]
        }
      ]
    },
    {
      "cell_type": "code",
      "metadata": {
        "colab": {
          "base_uri": "https://localhost:8080/"
        },
        "id": "Llelg8CLsLTI",
        "outputId": "5d117a22-5ab2-4b2d-ce6e-e74ba9eac0b6"
      },
      "source": [
        "import pandas as pd\n",
        "import numpy as np\n",
        "\n",
        "#Create a Dictionary of series\n",
        "d = {'Name':pd.Series(['chiku','Jerry','Ram','Sam','Shaggy','Sumit','Pushkar']),\n",
        "   'Age':pd.Series([25,26,25,23,30,29,23]),\n",
        "   'Rating':pd.Series([4.23,3.24,3.98,2.56,3.20,4.6,3.8])}\n",
        "\n",
        "#Create a DataFrame\n",
        "df = pd.DataFrame(d)\n",
        "print (\"Row axis labels and column axis labels are:\")\n",
        "print (df.axes)"
      ],
      "execution_count": 11,
      "outputs": [
        {
          "output_type": "stream",
          "name": "stdout",
          "text": [
            "Row axis labels and column axis labels are:\n",
            "[RangeIndex(start=0, stop=7, step=1), Index(['Name', 'Age', 'Rating'], dtype='object')]\n"
          ]
        }
      ]
    },
    {
      "cell_type": "code",
      "metadata": {
        "colab": {
          "base_uri": "https://localhost:8080/"
        },
        "id": "1QeY7s_ysOwb",
        "outputId": "00f568d1-c8f2-4d86-830d-2987c500339f"
      },
      "source": [
        "import pandas as pd\n",
        "import numpy as np\n",
        "\n",
        "#Create a Dictionary of series\n",
        "d = {'Name':pd.Series(['chiku','Jerry','Ram','Sam','Shaggy','Sumit','Pushkar']),\n",
        "   'Age':pd.Series([25,26,25,23,30,29,23]),\n",
        "   'Rating':pd.Series([4.23,3.24,3.98,2.56,3.20,4.6,3.8])}\n",
        "\n",
        "#Create a DataFrame\n",
        "df = pd.DataFrame(d)\n",
        "print (\"The data types of each column are:\")\n",
        "print (df.dtypes)"
      ],
      "execution_count": 12,
      "outputs": [
        {
          "output_type": "stream",
          "name": "stdout",
          "text": [
            "The data types of each column are:\n",
            "Name       object\n",
            "Age         int64\n",
            "Rating    float64\n",
            "dtype: object\n"
          ]
        }
      ]
    },
    {
      "cell_type": "code",
      "metadata": {
        "colab": {
          "base_uri": "https://localhost:8080/"
        },
        "id": "iXxTrwz3sQVc",
        "outputId": "06940262-3242-42e1-fac4-dac7e35d1320"
      },
      "source": [
        "import pandas as pd\n",
        "import numpy as np\n",
        " \n",
        "#Create a Dictionary of series\n",
        "d = {'Name':pd.Series(['chiku','Jerry','Ram','Sam','Shaggy','Sumit','Pushkar']),\n",
        "   'Age':pd.Series([25,26,25,23,30,29,23]),\n",
        "   'Rating':pd.Series([4.23,3.24,3.98,2.56,3.20,4.6,3.8])}\n",
        " \n",
        "#Create a DataFrame\n",
        "df = pd.DataFrame(d)\n",
        "print (\"Is the object empty?\")\n",
        "print (df.empty)"
      ],
      "execution_count": 13,
      "outputs": [
        {
          "output_type": "stream",
          "name": "stdout",
          "text": [
            "Is the object empty?\n",
            "False\n"
          ]
        }
      ]
    },
    {
      "cell_type": "code",
      "metadata": {
        "colab": {
          "base_uri": "https://localhost:8080/"
        },
        "id": "RI1wpKFksRbO",
        "outputId": "43efa86d-f5a0-4e6b-f787-69c521ce3680"
      },
      "source": [
        "#ndim-Returns the number of dimensions of the object. By definition, DataFrame is a 2D object.\n",
        "\n",
        "import pandas as pd\n",
        "import numpy as np\n",
        "\n",
        "#Create a Dictionary of series\n",
        "d = {'Name':pd.Series(['chiku','Jerry','Ram','Sam','Shaggy','Sumit','Pushkar']),\n",
        "   'Age':pd.Series([25,26,25,23,30,29,23]),\n",
        "   'Rating':pd.Series([4.23,3.24,3.98,2.56,3.20,4.6,3.8])}\n",
        "\n",
        "#Create a DataFrame\n",
        "df = pd.DataFrame(d)\n",
        "print (\"Our object is:\")\n",
        "print (df)\n",
        "print (\"The dimension of the object is:\")\n",
        "print (df.ndim)"
      ],
      "execution_count": 14,
      "outputs": [
        {
          "output_type": "stream",
          "name": "stdout",
          "text": [
            "Our object is:\n",
            "      Name  Age  Rating\n",
            "0    chiku   25    4.23\n",
            "1    Jerry   26    3.24\n",
            "2      Ram   25    3.98\n",
            "3      Sam   23    2.56\n",
            "4   Shaggy   30    3.20\n",
            "5    Sumit   29    4.60\n",
            "6  Pushkar   23    3.80\n",
            "The dimension of the object is:\n",
            "2\n"
          ]
        }
      ]
    },
    {
      "cell_type": "code",
      "metadata": {
        "colab": {
          "base_uri": "https://localhost:8080/"
        },
        "id": "hj5gZjfnsSfu",
        "outputId": "91fe2b95-997d-4501-974a-6d70edec2137"
      },
      "source": [
        "import pandas as pd\n",
        "import numpy as np\n",
        " \n",
        "#Create a Dictionary of series\n",
        "d = {'Name':pd.Series(['chiku','Jerry','Ram','Sam','Shaggy','Sumit','Pushkar']),\n",
        "   'Age':pd.Series([25,26,25,23,30,29,23]),\n",
        "   'Rating':pd.Series([4.23,3.24,3.98,2.56,3.20,4.6,3.8])}\n",
        " \n",
        "#Create a DataFrame\n",
        "df = pd.DataFrame(d)\n",
        "print (\"Our object is:\")\n",
        "print (df)\n",
        "print (\"The shape of the object is:\")\n",
        "print (df.shape)"
      ],
      "execution_count": 15,
      "outputs": [
        {
          "output_type": "stream",
          "name": "stdout",
          "text": [
            "Our object is:\n",
            "      Name  Age  Rating\n",
            "0    chiku   25    4.23\n",
            "1    Jerry   26    3.24\n",
            "2      Ram   25    3.98\n",
            "3      Sam   23    2.56\n",
            "4   Shaggy   30    3.20\n",
            "5    Sumit   29    4.60\n",
            "6  Pushkar   23    3.80\n",
            "The shape of the object is:\n",
            "(7, 3)\n"
          ]
        }
      ]
    },
    {
      "cell_type": "code",
      "metadata": {
        "colab": {
          "base_uri": "https://localhost:8080/"
        },
        "id": "ut74HmOHsTic",
        "outputId": "aaeaba24-5c4a-4ac4-d6b7-fcd2b6690ca0"
      },
      "source": [
        "import pandas as pd\n",
        "import numpy as np\n",
        " \n",
        "#Create a Dictionary of series\n",
        "d = {'Name':pd.Series(['chiku','Jerry','Ram','Sam','Shaggy','Sumit','Pushkar']),\n",
        "   'Age':pd.Series([25,26,25,23,30,29,23]),\n",
        "   'Rating':pd.Series([4.23,3.24,3.98,2.56,3.20,4.6,3.8])}\n",
        " \n",
        "#Create a DataFrame\n",
        "df = pd.DataFrame(d)\n",
        "print (\"Our object is:\")\n",
        "print (df)\n",
        "print (\"The total number of elements in our object is:\")\n",
        "print (df.size)"
      ],
      "execution_count": 16,
      "outputs": [
        {
          "output_type": "stream",
          "name": "stdout",
          "text": [
            "Our object is:\n",
            "      Name  Age  Rating\n",
            "0    chiku   25    4.23\n",
            "1    Jerry   26    3.24\n",
            "2      Ram   25    3.98\n",
            "3      Sam   23    2.56\n",
            "4   Shaggy   30    3.20\n",
            "5    Sumit   29    4.60\n",
            "6  Pushkar   23    3.80\n",
            "The total number of elements in our object is:\n",
            "21\n"
          ]
        }
      ]
    },
    {
      "cell_type": "code",
      "metadata": {
        "colab": {
          "base_uri": "https://localhost:8080/"
        },
        "id": "vK3satNgsUks",
        "outputId": "b4334c4a-9e63-406d-e562-21ed8decf8ab"
      },
      "source": [
        "import pandas as pd\n",
        "import numpy as np\n",
        " \n",
        "#Create a Dictionary of series\n",
        "d = {'Name':pd.Series(['chiku','Jerry','Ram','Sam','Shaggy','Sumit','Pushkar']),\n",
        "   'Age':pd.Series([25,26,25,23,30,29,23]),\n",
        "   'Rating':pd.Series([4.23,3.24,3.98,2.56,3.20,4.6,3.8])}\n",
        " \n",
        "#Create a DataFrame\n",
        "df = pd.DataFrame(d)\n",
        "print (\"Our object is:\")\n",
        "print (df)\n",
        "print (\"The actual data in our data frame is:\")\n",
        "print (df.values)"
      ],
      "execution_count": 17,
      "outputs": [
        {
          "output_type": "stream",
          "name": "stdout",
          "text": [
            "Our object is:\n",
            "      Name  Age  Rating\n",
            "0    chiku   25    4.23\n",
            "1    Jerry   26    3.24\n",
            "2      Ram   25    3.98\n",
            "3      Sam   23    2.56\n",
            "4   Shaggy   30    3.20\n",
            "5    Sumit   29    4.60\n",
            "6  Pushkar   23    3.80\n",
            "The actual data in our data frame is:\n",
            "[['chiku' 25 4.23]\n",
            " ['Jerry' 26 3.24]\n",
            " ['Ram' 25 3.98]\n",
            " ['Sam' 23 2.56]\n",
            " ['Shaggy' 30 3.2]\n",
            " ['Sumit' 29 4.6]\n",
            " ['Pushkar' 23 3.8]]\n"
          ]
        }
      ]
    },
    {
      "cell_type": "code",
      "metadata": {
        "colab": {
          "base_uri": "https://localhost:8080/"
        },
        "id": "meLAm7BysVx1",
        "outputId": "6c57b34b-928e-4b70-cee0-c798641a987f"
      },
      "source": [
        "import pandas as pd\n",
        "import numpy as np\n",
        " \n",
        "#Create a Dictionary of series\n",
        "d = {'Name':pd.Series(['chiku','Jerry','Ram','Sam','Shaggy','Sumit','Pushkar']),\n",
        "   'Age':pd.Series([25,26,25,23,30,29,23]),\n",
        "   'Rating':pd.Series([4.23,3.24,3.98,2.56,3.20,4.6,3.8])}\n",
        "\n",
        "#Create a DataFrame\n",
        "df = pd.DataFrame(d)\n",
        "print (\"Our data frame is:\")\n",
        "print (df)\n",
        "print (\"The first two rows of the data frame is:\")\n",
        "print (df.head(3))\n",
        "print(\"default head values\")\n",
        "print (df.head())"
      ],
      "execution_count": 18,
      "outputs": [
        {
          "output_type": "stream",
          "name": "stdout",
          "text": [
            "Our data frame is:\n",
            "      Name  Age  Rating\n",
            "0    chiku   25    4.23\n",
            "1    Jerry   26    3.24\n",
            "2      Ram   25    3.98\n",
            "3      Sam   23    2.56\n",
            "4   Shaggy   30    3.20\n",
            "5    Sumit   29    4.60\n",
            "6  Pushkar   23    3.80\n",
            "The first two rows of the data frame is:\n",
            "    Name  Age  Rating\n",
            "0  chiku   25    4.23\n",
            "1  Jerry   26    3.24\n",
            "2    Ram   25    3.98\n",
            "default head values\n",
            "     Name  Age  Rating\n",
            "0   chiku   25    4.23\n",
            "1   Jerry   26    3.24\n",
            "2     Ram   25    3.98\n",
            "3     Sam   23    2.56\n",
            "4  Shaggy   30    3.20\n"
          ]
        }
      ]
    },
    {
      "cell_type": "code",
      "metadata": {
        "colab": {
          "base_uri": "https://localhost:8080/"
        },
        "id": "Ptei0qqMsW-T",
        "outputId": "863ffc32-56a3-49de-805a-1e507c4b9f15"
      },
      "source": [
        "import pandas as pd\n",
        "import numpy as np\n",
        "\n",
        "#Create a Dictionary of series\n",
        "d = {'Name':pd.Series(['chiku','Jerry','Ram','Sam','Shaggy','Sumit','Pushkar']),\n",
        "   'Age':pd.Series([25,26,25,23,30,29,23]), \n",
        "   'Rating':pd.Series([4.23,3.24,3.98,2.56,3.20,4.6,3.8])}\n",
        " \n",
        "#Create a DataFrame\n",
        "df = pd.DataFrame(d)\n",
        "print (\"Our data frame is:\")\n",
        "print (df)\n",
        "print (\"The last two rows of the data frame is:\")\n",
        "print (df.tail(2))"
      ],
      "execution_count": 19,
      "outputs": [
        {
          "output_type": "stream",
          "name": "stdout",
          "text": [
            "Our data frame is:\n",
            "      Name  Age  Rating\n",
            "0    chiku   25    4.23\n",
            "1    Jerry   26    3.24\n",
            "2      Ram   25    3.98\n",
            "3      Sam   23    2.56\n",
            "4   Shaggy   30    3.20\n",
            "5    Sumit   29    4.60\n",
            "6  Pushkar   23    3.80\n",
            "The last two rows of the data frame is:\n",
            "      Name  Age  Rating\n",
            "5    Sumit   29     4.6\n",
            "6  Pushkar   23     3.8\n"
          ]
        }
      ]
    }
  ]
}